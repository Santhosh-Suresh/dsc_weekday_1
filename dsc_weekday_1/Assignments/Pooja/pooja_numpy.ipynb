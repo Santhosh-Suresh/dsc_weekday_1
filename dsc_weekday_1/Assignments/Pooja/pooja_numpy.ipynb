{
  "nbformat": 4,
  "nbformat_minor": 0,
  "metadata": {
    "colab": {
      "name": "pooja_numpy.ipynb",
      "provenance": [],
      "authorship_tag": "ABX9TyPBQ0W7RXUyKYOsf0qSNtP5",
      "include_colab_link": true
    },
    "kernelspec": {
      "name": "python3",
      "display_name": "Python 3"
    }
  },
  "cells": [
    {
      "cell_type": "markdown",
      "metadata": {
        "id": "view-in-github",
        "colab_type": "text"
      },
      "source": [
        "<a href=\"https://colab.research.google.com/github/leangaurav/dsc_weekday_1/blob/master/dsc_weekday_1/Assignments/Pooja/pooja_numpy.ipynb\" target=\"_parent\"><img src=\"https://colab.research.google.com/assets/colab-badge.svg\" alt=\"Open In Colab\"/></a>"
      ]
    },
    {
      "cell_type": "code",
      "metadata": {
        "id": "UHDbInjNAEOC",
        "colab_type": "code",
        "colab": {}
      },
      "source": [
        "\n",
        "import numpy as np\n"
      ],
      "execution_count": 2,
      "outputs": []
    },
    {
      "cell_type": "code",
      "metadata": {
        "id": "-XhUIx7JAZsk",
        "colab_type": "code",
        "colab": {
          "base_uri": "https://localhost:8080/",
          "height": 84
        },
        "outputId": "4529634d-586f-49f7-c1b8-00723dc5874c"
      },
      "source": [
        "#  create a numpy array of 5 zeros\n",
        "a = np.zeros(5)\n",
        "print(a)\n",
        "#  check datatype, itemsize and shape of above\n",
        "print(a.dtype)\n",
        "print(a.itemsize)\n",
        "print(a.shape)\n"
      ],
      "execution_count": null,
      "outputs": [
        {
          "output_type": "stream",
          "text": [
            "[0. 0. 0. 0. 0.]\n",
            "float64\n",
            "8\n",
            "(5,)\n"
          ],
          "name": "stdout"
        }
      ]
    },
    {
      "cell_type": "code",
      "metadata": {
        "id": "YHWLHSpeAVLP",
        "colab_type": "code",
        "colab": {
          "base_uri": "https://localhost:8080/",
          "height": 101
        },
        "outputId": "06abfd1c-f03b-408d-d2dd-4e836678c555"
      },
      "source": [
        "# create a numpy array of ones of shape (5,4)\n",
        "b = np.ones([5,4])\n",
        "\n",
        "print(b)"
      ],
      "execution_count": null,
      "outputs": [
        {
          "output_type": "stream",
          "text": [
            "[[1. 1. 1. 1.]\n",
            " [1. 1. 1. 1.]\n",
            " [1. 1. 1. 1.]\n",
            " [1. 1. 1. 1.]\n",
            " [1. 1. 1. 1.]]\n"
          ],
          "name": "stdout"
        }
      ]
    },
    {
      "cell_type": "code",
      "metadata": {
        "id": "jURTbzXjI4p_",
        "colab_type": "code",
        "colab": {
          "base_uri": "https://localhost:8080/",
          "height": 286
        },
        "outputId": "a2ad32dc-0ebb-46c0-a6b6-ca495c02259e"
      },
      "source": [
        "# create a matrix of shape 4,5 with numbers from 1-20\n",
        "x = np.arange(0,20).reshape(4,5)\n",
        "print(x)\n",
        "#  multiply all elements of above array by 10\n",
        "print()\n",
        "print(x*10)\n",
        "# print odd elements from array\n",
        "print()\n",
        "y = (x[x%2 ==1])\n",
        "print(y)\n",
        "#  replace all even elements by their negative\n",
        "print()\n",
        "print(np.negative(x))"
      ],
      "execution_count": null,
      "outputs": [
        {
          "output_type": "stream",
          "text": [
            "[[ 0  1  2  3  4]\n",
            " [ 5  6  7  8  9]\n",
            " [10 11 12 13 14]\n",
            " [15 16 17 18 19]]\n",
            "\n",
            "[[  0  10  20  30  40]\n",
            " [ 50  60  70  80  90]\n",
            " [100 110 120 130 140]\n",
            " [150 160 170 180 190]]\n",
            "\n",
            "[ 1  3  5  7  9 11 13 15 17 19]\n",
            "\n",
            "[[  0  -1  -2  -3  -4]\n",
            " [ -5  -6  -7  -8  -9]\n",
            " [-10 -11 -12 -13 -14]\n",
            " [-15 -16 -17 -18 -19]]\n"
          ],
          "name": "stdout"
        }
      ]
    },
    {
      "cell_type": "code",
      "metadata": {
        "id": "zCzx2tbkLA93",
        "colab_type": "code",
        "colab": {
          "base_uri": "https://localhost:8080/",
          "height": 168
        },
        "outputId": "4a73dfc6-d7e2-4240-ac73-7bf4f5e61134"
      },
      "source": [
        "# create a linearly spaced matrix M1 of size 4x4 having values in range 1-16\n",
        "m1 = np.linspace(1,16,16).reshape(4,4)\n",
        "print(m1)\n",
        "# create a transpose of above matrix call it M2\n",
        "m2 = m1.T\n",
        "print()\n",
        "print(m2)"
      ],
      "execution_count": 5,
      "outputs": [
        {
          "output_type": "stream",
          "text": [
            "[[ 1.  2.  3.  4.]\n",
            " [ 5.  6.  7.  8.]\n",
            " [ 9. 10. 11. 12.]\n",
            " [13. 14. 15. 16.]]\n",
            "\n",
            "[[ 1.  5.  9. 13.]\n",
            " [ 2.  6. 10. 14.]\n",
            " [ 3.  7. 11. 15.]\n",
            " [ 4.  8. 12. 16.]]\n"
          ],
          "name": "stdout"
        }
      ]
    },
    {
      "cell_type": "code",
      "metadata": {
        "id": "40fNSFHhLBK1",
        "colab_type": "code",
        "colab": {
          "base_uri": "https://localhost:8080/",
          "height": 84
        },
        "outputId": "b658d179-8b4d-413e-e3f0-18f8878d70c5"
      },
      "source": [
        "# find sum of above matrix M3 = (M1 + M2)\n",
        "m3 = m1 + m2\n",
        "print(m3)"
      ],
      "execution_count": 7,
      "outputs": [
        {
          "output_type": "stream",
          "text": [
            "[[ 2.  7. 12. 17.]\n",
            " [ 7. 12. 17. 22.]\n",
            " [12. 17. 22. 27.]\n",
            " [17. 22. 27. 32.]]\n"
          ],
          "name": "stdout"
        }
      ]
    },
    {
      "cell_type": "code",
      "metadata": {
        "id": "SPj_PtYmEpuf",
        "colab_type": "code",
        "colab": {
          "base_uri": "https://localhost:8080/",
          "height": 504
        },
        "outputId": "f3ceefa4-d471-471c-d2a5-470c650fdff4"
      },
      "source": [
        "# Find Transpose of M3, Call it MT1. Check if M3 == MT1\n",
        "# find diffrence of M4 = (M1 - M2)\n",
        "# Find Transpose of M4, Call it MT2. Check if M4 == MT2. Also check if M4 == -MT2\n",
        "mt1 = m3.T\n",
        "print(mt1)\n",
        "print()\n",
        "print(m3 == mt1)\n",
        "print()\n",
        "m4 = m1 - m2\n",
        "print(m4)\n",
        "print()\n",
        "mt2 = m4.T\n",
        "print(mt2)\n",
        "print()\n",
        "print(m4 == mt2)\n",
        "print()\n",
        "print(m4 == -mt2)"
      ],
      "execution_count": 13,
      "outputs": [
        {
          "output_type": "stream",
          "text": [
            "[[ 2.  7. 12. 17.]\n",
            " [ 7. 12. 17. 22.]\n",
            " [12. 17. 22. 27.]\n",
            " [17. 22. 27. 32.]]\n",
            "\n",
            "[[ True  True  True  True]\n",
            " [ True  True  True  True]\n",
            " [ True  True  True  True]\n",
            " [ True  True  True  True]]\n",
            "\n",
            "[[ 0. -3. -6. -9.]\n",
            " [ 3.  0. -3. -6.]\n",
            " [ 6.  3.  0. -3.]\n",
            " [ 9.  6.  3.  0.]]\n",
            "\n",
            "[[ 0.  3.  6.  9.]\n",
            " [-3.  0.  3.  6.]\n",
            " [-6. -3.  0.  3.]\n",
            " [-9. -6. -3.  0.]]\n",
            "\n",
            "[[ True False False False]\n",
            " [False  True False False]\n",
            " [False False  True False]\n",
            " [False False False  True]]\n",
            "\n",
            "[[ True  True  True  True]\n",
            " [ True  True  True  True]\n",
            " [ True  True  True  True]\n",
            " [ True  True  True  True]]\n"
          ],
          "name": "stdout"
        }
      ]
    },
    {
      "cell_type": "code",
      "metadata": {
        "id": "-SADyhVqE3JX",
        "colab_type": "code",
        "colab": {
          "base_uri": "https://localhost:8080/",
          "height": 235
        },
        "outputId": "70bc8f5b-3493-4bfb-f42b-5cfc1f000e6f"
      },
      "source": [
        "# create a matrix (3x4) R1 of random numbers between 10-40\n",
        "a = np.random.randint(10,40,12).reshape(3,4)\n",
        "print(a)\n",
        "print()\n",
        "# find min and max column wise\n",
        "print(a.min(axis = 0))\n",
        "print()\n",
        "print(a.max(axis = 0))\n",
        "print()\n",
        "# replace the last column with sum of all the columns\n",
        "x = a.sum(axis = 0)\n",
        "print(x)\n",
        "print()\n",
        "a[:,3] = x[:3]\n",
        "print(a)\n",
        "\n",
        "\n"
      ],
      "execution_count": 24,
      "outputs": [
        {
          "output_type": "stream",
          "text": [
            "[[15 18 32 27]\n",
            " [26 19 31 25]\n",
            " [28 14 34 34]]\n",
            "\n",
            "[15 14 31 25]\n",
            "\n",
            "[28 19 34 34]\n",
            "\n",
            "[69 51 97 86]\n",
            "\n",
            "[[15 18 32 69]\n",
            " [26 19 31 51]\n",
            " [28 14 34 97]]\n"
          ],
          "name": "stdout"
        }
      ]
    },
    {
      "cell_type": "code",
      "metadata": {
        "id": "Go24W1WuF5VK",
        "colab_type": "code",
        "colab": {
          "base_uri": "https://localhost:8080/",
          "height": 168
        },
        "outputId": "a1bdf0c7-31af-47ef-a776-4c45649ba4b4"
      },
      "source": [
        "# create a matrix (3x4) R1 of random numbers between 10-40\n",
        "r1 = np.random.randint(10,40,12).reshape(3,4).astype(float)\n",
        "print(r1)\n",
        "\n",
        "# replace all even elements with nan in R1\n",
        "print()\n",
        "r1[r1 % 2 == 0] = np.nan\n",
        "print(r1)\n",
        "\n",
        "# count number of nan in R1\n",
        "print()\n",
        "x = np.isnan(r1).sum()\n",
        "print(x)"
      ],
      "execution_count": 39,
      "outputs": [
        {
          "output_type": "stream",
          "text": [
            "[[16. 30. 34. 21.]\n",
            " [32. 22. 19. 19.]\n",
            " [27. 17. 36. 26.]]\n",
            "\n",
            "[[nan nan nan 21.]\n",
            " [nan nan 19. 19.]\n",
            " [27. 17. nan nan]]\n",
            "\n",
            "7\n"
          ],
          "name": "stdout"
        }
      ]
    },
    {
      "cell_type": "code",
      "metadata": {
        "id": "kk4ssyI_IFo8",
        "colab_type": "code",
        "colab": {
          "base_uri": "https://localhost:8080/",
          "height": 235
        },
        "outputId": "d3af3bc4-cb80-461f-8fdf-ca20328c3e93"
      },
      "source": [
        "# check output of this code\n",
        "a1 = np.arange(1,10).reshape(3,3)\n",
        "a2 = np.arange(11,20).reshape(3,3)\n",
        "a3 = np.append(a1,a2)\n",
        "print()\n",
        "print(a3)\n",
        "a3 = np.append(a1,a2, axis = 0)\n",
        "print()\n",
        "print(a3)\n",
        "a3 = np.append(a1,a2, axis = 1)\n",
        "print()\n",
        "print(a3)"
      ],
      "execution_count": 41,
      "outputs": [
        {
          "output_type": "stream",
          "text": [
            "\n",
            "[ 1  2  3  4  5  6  7  8  9 11 12 13 14 15 16 17 18 19]\n",
            "\n",
            "[[ 1  2  3]\n",
            " [ 4  5  6]\n",
            " [ 7  8  9]\n",
            " [11 12 13]\n",
            " [14 15 16]\n",
            " [17 18 19]]\n",
            "\n",
            "[[ 1  2  3 11 12 13]\n",
            " [ 4  5  6 14 15 16]\n",
            " [ 7  8  9 17 18 19]]\n"
          ],
          "name": "stdout"
        }
      ]
    },
    {
      "cell_type": "code",
      "metadata": {
        "id": "Pq0rbrWjI4ww",
        "colab_type": "code",
        "colab": {}
      },
      "source": [
        ""
      ],
      "execution_count": null,
      "outputs": []
    }
  ]
}