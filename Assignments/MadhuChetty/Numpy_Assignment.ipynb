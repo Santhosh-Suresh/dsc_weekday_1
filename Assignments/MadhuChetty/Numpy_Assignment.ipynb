{
 "cells": [
  {
   "cell_type": "code",
   "execution_count": 20,
   "metadata": {},
   "outputs": [],
   "source": [
    "import numpy as np"
   ]
  },
  {
   "cell_type": "code",
   "execution_count": 30,
   "metadata": {},
   "outputs": [
    {
     "name": "stdout",
     "output_type": "stream",
     "text": [
      "[0 0 0 0 0]\n",
      "int32\n",
      "4\n",
      "(5,)\n"
     ]
    }
   ],
   "source": [
    "#create a numpy array of 5 zeros.\n",
    "\n",
    "a=np.array([0,0,0,0,0])\n",
    "print(a)\n",
    "\n",
    "#check datatype, itemsize and shape of above\n",
    "print(a.dtype)\n",
    "print(a.itemsize)\n",
    "print(a.shape)\n"
   ]
  },
  {
   "cell_type": "code",
   "execution_count": 43,
   "metadata": {},
   "outputs": [
    {
     "name": "stdout",
     "output_type": "stream",
     "text": [
      "[[1. 1. 1. 1.]\n",
      " [1. 1. 1. 1.]\n",
      " [1. 1. 1. 1.]\n",
      " [1. 1. 1. 1.]\n",
      " [1. 1. 1. 1.]]\n",
      "(5, 4)\n"
     ]
    }
   ],
   "source": [
    "#create a numpy array of ones of shape (5,4)\n",
    "ar=np.ones([5,4])\n",
    "print(ar)\n",
    "print(ar.shape)\n",
    "\n"
   ]
  },
  {
   "cell_type": "code",
   "execution_count": 56,
   "metadata": {},
   "outputs": [
    {
     "name": "stdout",
     "output_type": "stream",
     "text": [
      "[[ 1  2  3  4  5]\n",
      " [ 6  7  8  9 10]\n",
      " [11 12 13 14 15]\n",
      " [16 17 18 19 20]]\n",
      "(4, 5)\n"
     ]
    }
   ],
   "source": [
    "#create a matrix of shape 4,5 with numbers from 1-20\n",
    "mat=np.arange(1,21).reshape(4,5)\n",
    "print(mat)\n",
    "print(mat.shape)"
   ]
  },
  {
   "cell_type": "code",
   "execution_count": 57,
   "metadata": {},
   "outputs": [
    {
     "name": "stdout",
     "output_type": "stream",
     "text": [
      "[[ 10  20  30  40  50]\n",
      " [ 60  70  80  90 100]\n",
      " [110 120 130 140 150]\n",
      " [160 170 180 190 200]]\n"
     ]
    }
   ],
   "source": [
    "#multiply all elements of above array by 10\n",
    "print(mat*10)"
   ]
  },
  {
   "cell_type": "code",
   "execution_count": 71,
   "metadata": {},
   "outputs": [
    {
     "name": "stdout",
     "output_type": "stream",
     "text": [
      "[ 1  3  5  7  9 11 13 15 17 19]\n"
     ]
    }
   ],
   "source": [
    "#print odd elements from array\n",
    "a = mat [(mat%2==1)]\n",
    "print(a)"
   ]
  },
  {
   "cell_type": "code",
   "execution_count": 74,
   "metadata": {},
   "outputs": [
    {
     "name": "stdout",
     "output_type": "stream",
     "text": [
      "[ -2  -4  -6  -8 -10 -12 -14 -16 -18 -20]\n"
     ]
    }
   ],
   "source": [
    "# replace all even elements by their negative\n",
    "\n",
    "b = mat [(mat%2==0)]\n",
    "print(-b)"
   ]
  },
  {
   "cell_type": "code",
   "execution_count": 194,
   "metadata": {},
   "outputs": [
    {
     "name": "stdout",
     "output_type": "stream",
     "text": [
      "[[ 1.  2.  3.  4.]\n",
      " [ 5.  6.  7.  8.]\n",
      " [ 9. 10. 11. 12.]\n",
      " [13. 14. 15. 16.]]\n",
      "(4, 4)\n"
     ]
    }
   ],
   "source": [
    "#create a linearly spaced matrix M1 of size 4x4 having values in range 1-16\n",
    "M1=np.linspace(1,16,16).reshape(4,4)\n",
    "print(M1)\n",
    "print(M1.shape)\n"
   ]
  },
  {
   "cell_type": "code",
   "execution_count": 163,
   "metadata": {},
   "outputs": [
    {
     "name": "stdout",
     "output_type": "stream",
     "text": [
      "[array([[ 1,  5,  9, 13],\n",
      "       [ 2,  6, 10, 14],\n",
      "       [ 3,  7, 11, 15],\n",
      "       [ 4,  8, 12, 16]])]\n"
     ]
    }
   ],
   "source": [
    "#create a transpose of above matrix call it M2\n",
    "M2=[M1.T]\n",
    "print(M2)"
   ]
  },
  {
   "cell_type": "code",
   "execution_count": 164,
   "metadata": {},
   "outputs": [
    {
     "name": "stdout",
     "output_type": "stream",
     "text": [
      "[[[ 2  7 12 17]\n",
      "  [ 7 12 17 22]\n",
      "  [12 17 22 27]\n",
      "  [17 22 27 32]]]\n"
     ]
    }
   ],
   "source": [
    "#find sum of above matrix M3 = (M1 + M2)\n",
    "M3=M1+M2\n",
    "print(M3)"
   ]
  },
  {
   "cell_type": "code",
   "execution_count": 202,
   "metadata": {},
   "outputs": [
    {
     "name": "stdout",
     "output_type": "stream",
     "text": [
      "[array([[[ 2],\n",
      "        [ 7],\n",
      "        [12],\n",
      "        [17]],\n",
      "\n",
      "       [[ 7],\n",
      "        [12],\n",
      "        [17],\n",
      "        [22]],\n",
      "\n",
      "       [[12],\n",
      "        [17],\n",
      "        [22],\n",
      "        [27]],\n",
      "\n",
      "       [[17],\n",
      "        [22],\n",
      "        [27],\n",
      "        [32]]])]\n",
      "not same\n"
     ]
    }
   ],
   "source": [
    "#Find Transpose of M3, Call it MT1. Check if M3 == MT1\n",
    "MT1=[M3.T]\n",
    "print(MT1)\n",
    "a= M3== MT1\n",
    "\n",
    "if a.all()==True:\n",
    "    print('same')\n",
    "else:\n",
    "    print('not same')\n",
    "    "
   ]
  },
  {
   "cell_type": "code",
   "execution_count": 177,
   "metadata": {},
   "outputs": [
    {
     "name": "stdout",
     "output_type": "stream",
     "text": [
      "[[[ 0 -3 -6 -9]\n",
      "  [ 3  0 -3 -6]\n",
      "  [ 6  3  0 -3]\n",
      "  [ 9  6  3  0]]]\n"
     ]
    }
   ],
   "source": [
    "#find diffrence of M4 = (M1 - M2)\n",
    "M4 = (M1 - M2)\n",
    "print(M4)"
   ]
  },
  {
   "cell_type": "code",
   "execution_count": 208,
   "metadata": {},
   "outputs": [
    {
     "name": "stdout",
     "output_type": "stream",
     "text": [
      "[[[ 0]\n",
      "  [ 3]\n",
      "  [ 6]\n",
      "  [ 9]]\n",
      "\n",
      " [[-3]\n",
      "  [ 0]\n",
      "  [ 3]\n",
      "  [ 6]]\n",
      "\n",
      " [[-6]\n",
      "  [-3]\n",
      "  [ 0]\n",
      "  [ 3]]\n",
      "\n",
      " [[-9]\n",
      "  [-6]\n",
      "  [-3]\n",
      "  [ 0]]]\n",
      "not same\n"
     ]
    }
   ],
   "source": [
    "#Find Transpose of M4, Call it MT2. Check if M4 == MT2. Also check if M4 == -MT2\n",
    "MT2=M4.T\n",
    "print(MT2)\n",
    "b= M4==-MT2\n",
    "if b.all()==True:\n",
    "        print('same')\n",
    "else:\n",
    "        print('not same')\n",
    "    \n",
    "   "
   ]
  },
  {
   "cell_type": "code",
   "execution_count": 210,
   "metadata": {},
   "outputs": [
    {
     "name": "stdout",
     "output_type": "stream",
     "text": [
      "[[37 25 27 27]\n",
      " [27 20 30 29]\n",
      " [21 19 21 18]]\n"
     ]
    }
   ],
   "source": [
    "#create a matrix (3x4) R1 of random numbers between 10-40\n",
    "mat1=np.random.randint(10,40,12).reshape(3,4)\n",
    "print(mat1)\n"
   ]
  },
  {
   "cell_type": "code",
   "execution_count": 217,
   "metadata": {},
   "outputs": [
    {
     "name": "stdout",
     "output_type": "stream",
     "text": [
      "[21 19 21 18]\n",
      "[37 25 30 29]\n"
     ]
    }
   ],
   "source": [
    "#find min and max column wise\n",
    "print(mat1.min(axis=0))\n",
    "print(mat1.max(axis=0))"
   ]
  },
  {
   "cell_type": "code",
   "execution_count": 243,
   "metadata": {},
   "outputs": [
    {
     "name": "stdout",
     "output_type": "stream",
     "text": [
      "[[13 13 36 30]\n",
      " [12 37 39 13]\n",
      " [38 39 33 15]]\n",
      "\n",
      "[30 13 15]\n",
      "\n",
      "318\n",
      "\n",
      "[[ 13  13  36 318]\n",
      " [ 12  37  39 318]\n",
      " [ 38  39  33 318]]\n"
     ]
    }
   ],
   "source": [
    "#replace the last column with sum of all the columns\n",
    "#New Random matrix\n",
    "mat2=np.random.randint(10,40,12).reshape(3,4)\n",
    "print(mat2)\n",
    "print()\n",
    "\n",
    "#Accessing the last column : postive index 3; negative index -1\n",
    "print(mat2[:,3])\n",
    "print()\n",
    "\n",
    "#sum of all columns is eventually sum of all elements in matrix\n",
    "print(mat2.sum())\n",
    "print()\n",
    "\n",
    "#Replacing last column with sum value obtained above\n",
    "mat2[:,3]=mat2.sum()\n",
    "print(mat2)\n"
   ]
  },
  {
   "cell_type": "code",
   "execution_count": 265,
   "metadata": {},
   "outputs": [
    {
     "name": "stdout",
     "output_type": "stream",
     "text": [
      "[[14 34 14 20]\n",
      " [12 27 11 32]\n",
      " [24 19 15 13]]\n",
      "\n",
      "[[[nan nan nan nan]\n",
      "  [nan 27. 11. nan]\n",
      "  [nan 19. 15. 13.]]]\n"
     ]
    }
   ],
   "source": [
    "#create a matrix (3x4) R1 of random numbers between 10-40\n",
    "R1=np.random.randint(10,40,12).reshape(3,4)\n",
    "print(R1)\n",
    "print()\n",
    "#replace all even elements with nan in R1\n",
    "R2= np.where([R1%2==0],np.nan,R1)\n",
    "print(R2)\n",
    "\n",
    "    \n"
   ]
  },
  {
   "cell_type": "code",
   "execution_count": 279,
   "metadata": {},
   "outputs": [
    {
     "name": "stdout",
     "output_type": "stream",
     "text": [
      "7\n"
     ]
    }
   ],
   "source": [
    "#count number of nan in R1\n",
    "a=np.sum(np.isnan(R2))\n",
    "print(a)"
   ]
  },
  {
   "cell_type": "code",
   "execution_count": 286,
   "metadata": {},
   "outputs": [
    {
     "name": "stdout",
     "output_type": "stream",
     "text": [
      "[[1 2 3]\n",
      " [4 5 6]\n",
      " [7 8 9]]\n",
      "[[11 12 13]\n",
      " [14 15 16]\n",
      " [17 18 19]]\n",
      "[ 1  2  3  4  5  6  7  8  9 11 12 13 14 15 16 17 18 19]\n",
      "[[ 1  2  3]\n",
      " [ 4  5  6]\n",
      " [ 7  8  9]\n",
      " [11 12 13]\n",
      " [14 15 16]\n",
      " [17 18 19]]\n"
     ]
    }
   ],
   "source": [
    "#check output of this code\n",
    "a1 = np.arange(1,10).reshape(3,3) \n",
    "print(a1)\n",
    "a2 = np.arange(11,20).reshape(3,3)\n",
    "print(a2)\n",
    "a3 = np.append(a1,a2)\n",
    "print(a3)\n",
    "a3 = np.append(a1,a2, axis = 0)\n",
    "print(a3)\n",
    "a3 = np.append(a1,a2, axis = 1) \n",
    "# print(a3)\n"
   ]
  },
  {
   "cell_type": "code",
   "execution_count": null,
   "metadata": {},
   "outputs": [],
   "source": []
  },
  {
   "cell_type": "code",
   "execution_count": null,
   "metadata": {},
   "outputs": [],
   "source": []
  },
  {
   "cell_type": "code",
   "execution_count": null,
   "metadata": {},
   "outputs": [],
   "source": []
  }
 ],
 "metadata": {
  "kernelspec": {
   "display_name": "Python 3",
   "language": "python",
   "name": "python3"
  },
  "language_info": {
   "codemirror_mode": {
    "name": "ipython",
    "version": 3
   },
   "file_extension": ".py",
   "mimetype": "text/x-python",
   "name": "python",
   "nbconvert_exporter": "python",
   "pygments_lexer": "ipython3",
   "version": "3.7.6"
  }
 },
 "nbformat": 4,
 "nbformat_minor": 4
}
