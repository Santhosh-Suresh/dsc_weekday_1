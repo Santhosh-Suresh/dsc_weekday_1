{
 "cells": [
  {
   "cell_type": "markdown",
   "metadata": {},
   "source": [
    "- Read sheet \"Australia by Residence\" from Australia.xlsx\n",
    "- Ignore the first 20 rows.\n",
    "- List all Column and Row indexes(Print their names)\n",
    "\n",
    "Dataset Analysis\n",
    "- Describe the dataset\n",
    "- Use values and index attributes on both Row and Column Indexes\n",
    "- Check Shape, Datatypes and other attributes and observe the datatype of each columns' data\n",
    "  \n",
    "\n",
    "Drop\n",
    "- Delete all Data where the Type = \"Emigrants\" or Type is not \"Immigrants\" (Row Deletion)\n",
    "- Find columns for which more than 50% data is missing and drop them (Column Deletion)\n",
    "- Drop Unnessary Columns: Type, Coverage, Area, Reg, Dev (Column deletion)\n",
    "    Your columns should now look like \"OdName,AreaName,RegName,DevName,1980 ... 2008\"\n",
    "\n",
    "Rename\n",
    "- Rename columns :OdName -> Country; RegName -> Region\n",
    "- Convert Column Names with Int type to Strings to avoid index errors with string indexing \"1980, 1981 etc.\" => \" '1980', '1981' ... \" (Use rename)\n",
    "- Find Total number of immigrants for all years, and create a new column Total in data Frame\n",
    "\n",
    "Head Tail Sort\n",
    "- Sort Data by the new column Total in descending order and analyze the fist few rows. (get first few rows using head)\n",
    "    - find something weird in the dataset ? Delete that row 'world'\n",
    "- Analyze last few rows also in the sorted result (Don't sort inplace)\n",
    "\n",
    "- Check if these have all unique values or not:\n",
    "    - countries\n",
    "    - continents (AreaName)\n",
    "    - country continent pairs\n",
    "\n",
    "\n",
    "- Find countries for which no of immigrants for all years is 0\n",
    "- Find count of above countries\n",
    "- Find countries for which no of immigrants is 0 for any year\n",
    "\n",
    "Save Data\n",
    "- Drop the row where AreaName is 'World'\n",
    "- Save the dataset to a new file AustraliaFiltered.xlsx"
   ]
  },
  {
   "cell_type": "code",
   "execution_count": 2,
   "metadata": {},
   "outputs": [
    {
     "name": "stdout",
     "output_type": "stream",
     "text": [
      "<class 'pandas.core.frame.DataFrame'>\n",
      "RangeIndex: 76 entries, 0 to 75\n",
      "Data columns (total 38 columns):\n",
      " #   Column       Non-Null Count  Dtype  \n",
      "---  ------       --------------  -----  \n",
      " 0   Unnamed: 0   68 non-null     object \n",
      " 1   Unnamed: 1   57 non-null     object \n",
      " 2   Unnamed: 2   58 non-null     object \n",
      " 3   Unnamed: 3   47 non-null     object \n",
      " 4   Unnamed: 4   57 non-null     object \n",
      " 5   Unnamed: 5   57 non-null     object \n",
      " 6   Unnamed: 6   57 non-null     object \n",
      " 7   Unnamed: 7   57 non-null     object \n",
      " 8   Unnamed: 8   57 non-null     object \n",
      " 9   Unnamed: 9   57 non-null     object \n",
      " 10  Unnamed: 10  57 non-null     object \n",
      " 11  Unnamed: 11  57 non-null     object \n",
      " 12  Unnamed: 12  57 non-null     object \n",
      " 13  Unnamed: 13  57 non-null     object \n",
      " 14  Unnamed: 14  57 non-null     object \n",
      " 15  Unnamed: 15  57 non-null     object \n",
      " 16  Unnamed: 16  57 non-null     object \n",
      " 17  Unnamed: 17  57 non-null     object \n",
      " 18  Unnamed: 18  57 non-null     float64\n",
      " 19  Unnamed: 19  57 non-null     float64\n",
      " 20  Unnamed: 20  57 non-null     float64\n",
      " 21  Unnamed: 21  57 non-null     float64\n",
      " 22  Unnamed: 22  57 non-null     float64\n",
      " 23  Unnamed: 23  57 non-null     float64\n",
      " 24  Unnamed: 24  57 non-null     float64\n",
      " 25  Unnamed: 25  57 non-null     float64\n",
      " 26  Unnamed: 26  57 non-null     float64\n",
      " 27  Unnamed: 27  57 non-null     float64\n",
      " 28  Unnamed: 28  57 non-null     float64\n",
      " 29  Unnamed: 29  57 non-null     float64\n",
      " 30  Unnamed: 30  57 non-null     float64\n",
      " 31  Unnamed: 31  57 non-null     float64\n",
      " 32  Unnamed: 32  57 non-null     float64\n",
      " 33  Unnamed: 33  57 non-null     object \n",
      " 34  Unnamed: 34  57 non-null     object \n",
      " 35  Unnamed: 35  57 non-null     object \n",
      " 36  Unnamed: 36  57 non-null     object \n",
      " 37  Unnamed: 37  1 non-null      float64\n",
      "dtypes: float64(16), object(22)\n",
      "memory usage: 22.7+ KB\n"
     ]
    }
   ],
   "source": [
    "import pandas as pd\n",
    "anz = pd.read_excel('Australia.xlsx')\n",
    "anz.info()"
   ]
  },
  {
   "cell_type": "code",
   "execution_count": null,
   "metadata": {},
   "outputs": [],
   "source": []
  },
  {
   "cell_type": "code",
   "execution_count": null,
   "metadata": {},
   "outputs": [],
   "source": []
  },
  {
   "cell_type": "code",
   "execution_count": null,
   "metadata": {},
   "outputs": [],
   "source": []
  },
  {
   "cell_type": "code",
   "execution_count": null,
   "metadata": {},
   "outputs": [],
   "source": []
  },
  {
   "cell_type": "code",
   "execution_count": null,
   "metadata": {},
   "outputs": [],
   "source": []
  },
  {
   "cell_type": "code",
   "execution_count": null,
   "metadata": {},
   "outputs": [],
   "source": []
  },
  {
   "cell_type": "code",
   "execution_count": null,
   "metadata": {},
   "outputs": [],
   "source": []
  },
  {
   "cell_type": "code",
   "execution_count": null,
   "metadata": {},
   "outputs": [],
   "source": []
  }
 ],
 "metadata": {
  "kernelspec": {
   "display_name": "Python 3",
   "language": "python",
   "name": "python3"
  },
  "language_info": {
   "codemirror_mode": {
    "name": "ipython",
    "version": 3
   },
   "file_extension": ".py",
   "mimetype": "text/x-python",
   "name": "python",
   "nbconvert_exporter": "python",
   "pygments_lexer": "ipython3",
   "version": "3.7.6"
  }
 },
 "nbformat": 4,
 "nbformat_minor": 2
}
