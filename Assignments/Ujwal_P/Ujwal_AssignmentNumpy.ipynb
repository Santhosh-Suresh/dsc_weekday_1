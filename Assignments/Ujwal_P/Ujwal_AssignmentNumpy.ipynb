{
 "cells": [
  {
   "cell_type": "markdown",
   "metadata": {},
   "source": [
    "## NUMPY\n",
    "- create a numpy array of 5 zeros.\n",
    "    - check datatype, itemsize and shape of above\n",
    "- create a numpy array of ones of shape (5,4)\n",
    "- create a matrix of shape 4,5 with numbers from 1-20\n",
    "- multiply all elements of above array by 10\n",
    "- print odd elements from array\n",
    "- replace all even elements by their negative\n",
    "  \n",
    "  \n",
    "  \n",
    "- create a linearly spaced matrix M1 of size 4x4 having values in range 1-16\n",
    "- create a transpose of above matrix call it M2\n",
    "- find sum of above matrix M3 = (M1 + M2)\n",
    "- Find Transpose of M3, Call it MT1. Check if M3 == MT1\n",
    "- find diffrence of M4 = (M1 - M2)\n",
    "- Find Transpose of M4, Call it MT2. Check if M4 == MT2. Also check if M4 == -MT2\n",
    "  \n",
    "\n",
    "- create a matrix (3x4) R1 of random numbers between 10-40\n",
    "- find min and max column wise\n",
    "- replace the last column with sum of all the columns\n",
    "\n",
    "\n",
    "- create a matrix (3x4) R1 of random numbers between 10-40\n",
    "- replace all even elements with nan in R1\n",
    "- count number of nan in R1\n",
    "\n",
    "\n",
    "\n",
    "- check output of this code  \n",
    "`a1 = np.arange(1,10).reshape(3,3)\n",
    "a2 = np.arange(11,20).reshape(3,3)\n",
    "a3 = np.append(a1,a2)\n",
    "print(a3)\n",
    "a3 = np.append(a1,a2, axis = 0)\n",
    "print(a3)\n",
    "a3 = np.append(a1,a2, axis = 1)\n",
    "print(a3)\n",
    "`\n"
   ]
  },
  {
   "cell_type": "code",
   "execution_count": 2,
   "metadata": {
    "collapsed": true
   },
   "outputs": [],
   "source": [
    "import numpy as np"
   ]
  },
  {
   "cell_type": "code",
   "execution_count": 2,
   "metadata": {
    "collapsed": false
   },
   "outputs": [
    {
     "name": "stdout",
     "output_type": "stream",
     "text": [
      "[0 0 0 0 0]\n",
      "[ 0.  0.  0.  0.  0.]\n",
      "int32\n",
      "4\n",
      "(5,)\n",
      "float64\n",
      "8\n",
      "(5,)\n"
     ]
    }
   ],
   "source": [
    "# - create a numpy array of 5 zeros.\n",
    "#     - check datatype, itemsize and shape of above\n",
    "\n",
    "arr=np.array([0,0,0,0,0])\n",
    "print(arr)\n",
    "# or \n",
    "arr1=np.zeros(5)\n",
    "print(arr1)\n",
    "\n",
    "print(arr.dtype)\n",
    "print(arr.itemsize)\n",
    "print(arr.shape)\n",
    "\n",
    "print(arr1.dtype)\n",
    "print(arr1.itemsize)\n",
    "print(arr1.shape)"
   ]
  },
  {
   "cell_type": "code",
   "execution_count": 3,
   "metadata": {
    "collapsed": false
   },
   "outputs": [
    {
     "name": "stdout",
     "output_type": "stream",
     "text": [
      "[[1 1 1 1]\n",
      " [1 1 1 1]\n",
      " [1 1 1 1]\n",
      " [1 1 1 1]\n",
      " [1 1 1 1]]\n",
      "int32\n",
      "4\n"
     ]
    }
   ],
   "source": [
    "# - create a numpy array of ones of shape (5,4)\n",
    "a1=np.ones((5,4),dtype='int')\n",
    "print(a1)\n",
    "print(a1.dtype)\n",
    "print(a1.itemsize)"
   ]
  },
  {
   "cell_type": "code",
   "execution_count": 4,
   "metadata": {
    "collapsed": false
   },
   "outputs": [
    {
     "name": "stdout",
     "output_type": "stream",
     "text": [
      "[ 1  2  3  4  5  6  7  8  9 10 11 12 13 14 15 16 17 18 19 20]\n",
      "\n",
      "[[ 1  2  3  4  5]\n",
      " [ 6  7  8  9 10]\n",
      " [11 12 13 14 15]\n",
      " [16 17 18 19 20]]\n",
      "\n",
      "[[ 1  2  3  4  5]\n",
      " [ 6  7  8  9 10]\n",
      " [11 12 13 14 15]\n",
      " [16 17 18 19 20]]\n"
     ]
    }
   ],
   "source": [
    "# - create a matrix of shape 4,5 with numbers from 1-20\n",
    "a2=np.arange(1,21)\n",
    "print(a2)\n",
    "print()\n",
    "a3=a2.reshape((4,5))  # one way of doing it \n",
    "print(a3)\n",
    "print()\n",
    "a=np.reshape(a2,(4,5)) # anoter way of doing it\n",
    "print(a)"
   ]
  },
  {
   "cell_type": "code",
   "execution_count": 5,
   "metadata": {
    "collapsed": false
   },
   "outputs": [
    {
     "name": "stdout",
     "output_type": "stream",
     "text": [
      "[[ 10  20  30  40  50]\n",
      " [ 60  70  80  90 100]\n",
      " [110 120 130 140 150]\n",
      " [160 170 180 190 200]]\n"
     ]
    }
   ],
   "source": [
    "# - multiply all elements of above array by 10\n",
    "a4=a*10\n",
    "print(a4)"
   ]
  },
  {
   "cell_type": "code",
   "execution_count": 6,
   "metadata": {
    "collapsed": false
   },
   "outputs": [
    {
     "name": "stdout",
     "output_type": "stream",
     "text": [
      "[[ 1  2  3  4  5]\n",
      " [ 6  7  8  9 10]\n",
      " [11 12 13 14 15]\n",
      " [16 17 18 19 20]]\n",
      "\n",
      "[[ True False  True False  True]\n",
      " [False  True False  True False]\n",
      " [ True False  True False  True]\n",
      " [False  True False  True False]]\n",
      "\n",
      "[ 1  3  5  7  9 11 13 15 17 19]\n",
      "\n",
      "[ 1  3  5  7  9 11 13 15 17 19]\n"
     ]
    }
   ],
   "source": [
    "# - print odd elements from array\n",
    "print(a)\n",
    "print()\n",
    "\n",
    "decision= a%2==1\n",
    "print(decision)\n",
    "print()\n",
    "\n",
    "odd=a[decision]\n",
    "print(odd)\n",
    "print()\n",
    "\n",
    "# another way of doing above thing\n",
    "odd1=a[a%2==1]\n",
    "print(odd1)"
   ]
  },
  {
   "cell_type": "code",
   "execution_count": 7,
   "metadata": {
    "collapsed": false
   },
   "outputs": [
    {
     "name": "stdout",
     "output_type": "stream",
     "text": [
      "[[ -1  -2  -3  -4  -5]\n",
      " [ -6  -7  -8  -9 -10]\n",
      " [-11 -12 -13 -14 -15]\n",
      " [-16 -17 -18 -19 -20]]\n"
     ]
    }
   ],
   "source": [
    "# - replace all even elements by their negative\n",
    "a=np.arange(1,21).reshape((4,5))\n",
    "a=a*-1\n",
    "print(a)"
   ]
  },
  {
   "cell_type": "markdown",
   "metadata": {},
   "source": []
  },
  {
   "cell_type": "code",
   "execution_count": 8,
   "metadata": {
    "collapsed": false
   },
   "outputs": [
    {
     "name": "stdout",
     "output_type": "stream",
     "text": [
      "[[ 1  2  3  4]\n",
      " [ 5  6  7  8]\n",
      " [ 9 10 11 12]\n",
      " [13 14 15 16]]\n"
     ]
    }
   ],
   "source": [
    "# - create a linearly spaced matrix M1 of size 4x4 having values in range 1-16\n",
    "m1=np.linspace(1,16,16,dtype='int').reshape((4,4))\n",
    "print(m1)"
   ]
  },
  {
   "cell_type": "code",
   "execution_count": 9,
   "metadata": {
    "collapsed": false
   },
   "outputs": [
    {
     "name": "stdout",
     "output_type": "stream",
     "text": [
      "[[ 1  5  9 13]\n",
      " [ 2  6 10 14]\n",
      " [ 3  7 11 15]\n",
      " [ 4  8 12 16]]\n"
     ]
    }
   ],
   "source": [
    "# - create a transpose of above matrix call it M2\n",
    "m2=m1.T\n",
    "print(m2)"
   ]
  },
  {
   "cell_type": "code",
   "execution_count": 10,
   "metadata": {
    "collapsed": false
   },
   "outputs": [
    {
     "name": "stdout",
     "output_type": "stream",
     "text": [
      "[[ 2  7 12 17]\n",
      " [ 7 12 17 22]\n",
      " [12 17 22 27]\n",
      " [17 22 27 32]]\n"
     ]
    }
   ],
   "source": [
    "# - find sum of above matrix M3 = (M1 + M2)\n",
    "m3=m1+m2\n",
    "print(m3)"
   ]
  },
  {
   "cell_type": "code",
   "execution_count": 11,
   "metadata": {
    "collapsed": false
   },
   "outputs": [
    {
     "name": "stdout",
     "output_type": "stream",
     "text": [
      "[[ 2  7 12 17]\n",
      " [ 7 12 17 22]\n",
      " [12 17 22 27]\n",
      " [17 22 27 32]]\n",
      "\n",
      "[[ True  True  True  True]\n",
      " [ True  True  True  True]\n",
      " [ True  True  True  True]\n",
      " [ True  True  True  True]]\n",
      "\n",
      "M3 and MT1 are same\n"
     ]
    }
   ],
   "source": [
    "# - Find Transpose of M3, Call it MT1. Check if M3 == MT1\n",
    "mt1=m3.T\n",
    "print(mt1)\n",
    "print()\n",
    "\n",
    "new= m3==mt1\n",
    "print(new)\n",
    "print()\n",
    "if np.count_nonzero(new)==new.size:\n",
    "    print(\"M3 and MT1 are same\")\n"
   ]
  },
  {
   "cell_type": "code",
   "execution_count": 12,
   "metadata": {
    "collapsed": false
   },
   "outputs": [
    {
     "name": "stdout",
     "output_type": "stream",
     "text": [
      "[[ 0 -3 -6 -9]\n",
      " [ 3  0 -3 -6]\n",
      " [ 6  3  0 -3]\n",
      " [ 9  6  3  0]]\n"
     ]
    }
   ],
   "source": [
    "# - find diffrence of M4 = (M1 - M2)\n",
    "m4=m1-m2\n",
    "print(m4)"
   ]
  },
  {
   "cell_type": "code",
   "execution_count": 13,
   "metadata": {
    "collapsed": false
   },
   "outputs": [
    {
     "name": "stdout",
     "output_type": "stream",
     "text": [
      "[[ 0  3  6  9]\n",
      " [-3  0  3  6]\n",
      " [-6 -3  0  3]\n",
      " [-9 -6 -3  0]]\n",
      "\n",
      "[[ True False False False]\n",
      " [False  True False False]\n",
      " [False False  True False]\n",
      " [False False False  True]]\n",
      "\n",
      "M4 and mt2 are different\n",
      "\n",
      "\n",
      "[[ True  True  True  True]\n",
      " [ True  True  True  True]\n",
      " [ True  True  True  True]\n",
      " [ True  True  True  True]]\n",
      "\n",
      "M4 and -mt2 are same\n"
     ]
    }
   ],
   "source": [
    "# - Find Transpose of M4, Call it MT2. Check if M4 == MT2. Also check if M4 == -MT2\n",
    "mt2=m4.T\n",
    "print(mt2)\n",
    "print()\n",
    "\n",
    "new1= m4==mt2\n",
    "print(new1)\n",
    "print()\n",
    "if np.count_nonzero(new1)==new1.size:\n",
    "    print(\"M4 and mt2 are same\")\n",
    "else:\n",
    "    print(\"M4 and mt2 are different\")\n",
    "    \n",
    "print()\n",
    "print()\n",
    "\n",
    "new2= m4==-mt2\n",
    "print(new2)\n",
    "print()\n",
    "if np.count_nonzero(new2)==new2.size:\n",
    "    print(\"M4 and -mt2 are same\")\n",
    "else:\n",
    "    print(\"M4 and -mt2 are different\")"
   ]
  },
  {
   "cell_type": "code",
   "execution_count": null,
   "metadata": {
    "collapsed": true
   },
   "outputs": [],
   "source": []
  },
  {
   "cell_type": "code",
   "execution_count": 14,
   "metadata": {
    "collapsed": false
   },
   "outputs": [
    {
     "name": "stdout",
     "output_type": "stream",
     "text": [
      "[[36 16 27 38]\n",
      " [13 17 35 12]\n",
      " [13 22 34 34]]\n"
     ]
    }
   ],
   "source": [
    "# - create a matrix (3x4) R1 of random numbers between 10-40\n",
    "r1=np.random.randint(10,40,12).reshape((3,4))\n",
    "print(r1)"
   ]
  },
  {
   "cell_type": "code",
   "execution_count": 15,
   "metadata": {
    "collapsed": false
   },
   "outputs": [
    {
     "name": "stdout",
     "output_type": "stream",
     "text": [
      "min:   [13 16 27 12]\n",
      "max:   [36 22 35 38]\n"
     ]
    }
   ],
   "source": [
    "# - find min and max column wise\n",
    "print(\"min:  \",r1.min(axis=0))\n",
    "print(\"max:  \",r1.max(axis=0))"
   ]
  },
  {
   "cell_type": "code",
   "execution_count": 16,
   "metadata": {
    "collapsed": false
   },
   "outputs": [
    {
     "name": "stdout",
     "output_type": "stream",
     "text": [
      "[117  77 103]\n",
      "[[ 36  16  27 117]\n",
      " [ 13  17  35  77]\n",
      " [ 13  22  34 103]]\n"
     ]
    }
   ],
   "source": [
    "# - replace the last column with sum of all the columns\n",
    "s=r1.sum(axis=1)\n",
    "print(s)\n",
    "r1[:,3]=s\n",
    "print(r1)"
   ]
  },
  {
   "cell_type": "code",
   "execution_count": null,
   "metadata": {
    "collapsed": true
   },
   "outputs": [],
   "source": []
  },
  {
   "cell_type": "code",
   "execution_count": 6,
   "metadata": {
    "collapsed": false
   },
   "outputs": [
    {
     "name": "stdout",
     "output_type": "stream",
     "text": [
      "[[ 30.  37.  28.  38.]\n",
      " [ 32.  25.  34.  26.]\n",
      " [ 22.  24.  22.  15.]]\n"
     ]
    }
   ],
   "source": [
    "# - create a matrix (3x4) R1 of random numbers between 10-40\n",
    "r1=np.random.randint(10,40,12).reshape((3,4)).astype(float)\n",
    "print(r1)"
   ]
  },
  {
   "cell_type": "code",
   "execution_count": 7,
   "metadata": {
    "collapsed": false
   },
   "outputs": [
    {
     "name": "stdout",
     "output_type": "stream",
     "text": [
      "[[False False  True False]\n",
      " [False False  True  True]\n",
      " [False  True  True  True]]\n",
      "[[ 29.  19.  nan  17.]\n",
      " [ 13.  25.  nan  nan]\n",
      " [ 25.  nan  nan  nan]]\n"
     ]
    }
   ],
   "source": [
    "# - replace all even elements with nan in R1\n",
    "\n",
    "d=r2%2==0\n",
    "print(d)\n",
    "\n",
    "r2[d]=np.nan\n",
    "print(r2)\n"
   ]
  },
  {
   "cell_type": "code",
   "execution_count": 14,
   "metadata": {
    "collapsed": false
   },
   "outputs": [
    {
     "name": "stdout",
     "output_type": "stream",
     "text": [
      "[[False False  True False]\n",
      " [False False  True  True]\n",
      " [False  True  True  True]]\n",
      "The count of nan values is :  6\n",
      "The count of nan values is 6\n"
     ]
    }
   ],
   "source": [
    "# - count number of nan in R1\n",
    "na=np.isnan(r2)\n",
    "print(na)\n",
    "print(\"The count of nan values is : \",np.count_nonzero(na))\n",
    "\n",
    "# or\n",
    "print(\"The count of nan values is\",d.sum())"
   ]
  },
  {
   "cell_type": "code",
   "execution_count": null,
   "metadata": {
    "collapsed": false
   },
   "outputs": [],
   "source": [
    "a1 = np.arange(1,10).reshape(3,3)\n",
    "print(a1)\n",
    "a2 = np.arange(11,20).reshape(3,3)\n",
    "print(a2)\n",
    "a3 = np.append(a1,a2)\n",
    "print(a3)\n",
    "a3 = np.append(a1,a2, axis = 0)\n",
    "print(a3)\n",
    "a3 = np.append(a1,a2, axis = 1)\n",
    "print(a3)"
   ]
  },
  {
   "cell_type": "code",
   "execution_count": null,
   "metadata": {
    "collapsed": true
   },
   "outputs": [],
   "source": []
  },
  {
   "cell_type": "code",
   "execution_count": null,
   "metadata": {
    "collapsed": true
   },
   "outputs": [],
   "source": []
  }
 ],
 "metadata": {
  "anaconda-cloud": {},
  "kernelspec": {
   "display_name": "Python [default]",
   "language": "python",
   "name": "python3"
  },
  "language_info": {
   "codemirror_mode": {
    "name": "ipython",
    "version": 3
   },
   "file_extension": ".py",
   "mimetype": "text/x-python",
   "name": "python",
   "nbconvert_exporter": "python",
   "pygments_lexer": "ipython3",
   "version": "3.5.2"
  }
 },
 "nbformat": 4,
 "nbformat_minor": 2
}
