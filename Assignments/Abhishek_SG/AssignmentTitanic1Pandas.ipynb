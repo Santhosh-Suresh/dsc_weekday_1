{
 "cells": [
  {
   "cell_type": "markdown",
   "metadata": {},
   "source": [
    "|Variable|Definition|Key|\n",
    "|---|---|---|\n",
    "|survival|Survival|0 = No, 1 = Yes|\n",
    "|pclass|Ticket class|1 = 1st, 2 = 2nd, 3 = 3rd|\n",
    "|gender|gender ||\n",
    "|Age |Age in years| |\n",
    "|sibsp |number of siblings / spouses aboard|\t|\n",
    "|parch |number of parents / children aboard| |\n",
    "|ticket|Ticket number ||\n",
    "|fare | fare| \t|\n",
    "|cabin |Cabin number|\t|\n",
    "|embarked|Port of Embarkation|C = Cherbourg, Q = Queenstown, S = Southampton|\n",
    "|boat | Lifeboat||\n",
    "|body | Body Identification Number||\n",
    "|home.dest| Home/destination||"
   ]
  },
  {
   "cell_type": "markdown",
   "metadata": {},
   "source": []
  },
  {
   "cell_type": "markdown",
   "metadata": {},
   "source": [
    "- Read data and describe it\n",
    "- Find columns with missing data\n",
    "- Print shape of dataset\n",
    "- drop columns with more than 25% missing data\n",
    "- drop columns having independent values(which do not affect the survival rate).\n",
    "\n",
    "\n",
    "- check data types of all columns\n",
    "- convert price to numeric\n",
    "- find columns still having missing/na values and also count of missing data\n",
    "- fill na with mean for fare and age column column.\n",
    "- drop na values for embarked column.\n",
    "- dump the dataframe to a csv file 'titanic_filtered.csv'.\n",
    "\n",
    "\n",
    "- for surviced column replace 0 with D and 1 with A\n",
    "- find the frequency of different values in survived column\n",
    "- group by gender and survived and see the counts in each category\n",
    "- find different pclass and no of people in each class\n",
    "\n",
    "- find top 5 people with highest values of age. Count no of male and females in the top 5\n",
    "- find max age male and female who survived\n",
    "- get average age by gender\n",
    "- get average age by people survived vs not-survived"
   ]
  },
  {
   "cell_type": "code",
   "execution_count": 1,
   "metadata": {},
   "outputs": [],
   "source": [
    "import pandas as pd\n",
    "import numpy as np"
   ]
  },
  {
   "cell_type": "code",
   "execution_count": 2,
   "metadata": {
    "scrolled": true
   },
   "outputs": [
    {
     "name": "stdout",
     "output_type": "stream",
     "text": [
      "         Unnamed: 0       pclass     survived              name gender  \\\n",
      "count   1309.000000  1309.000000  1309.000000              1309   1309   \n",
      "unique          NaN          NaN          NaN              1307      2   \n",
      "top             NaN          NaN          NaN  Kelly, Mr. James   male   \n",
      "freq            NaN          NaN          NaN                 2    843   \n",
      "mean     654.000000     2.294882     0.381971               NaN    NaN   \n",
      "std      378.020061     0.837836     0.486055               NaN    NaN   \n",
      "min        0.000000     1.000000     0.000000               NaN    NaN   \n",
      "25%      327.000000     2.000000     0.000000               NaN    NaN   \n",
      "50%      654.000000     3.000000     0.000000               NaN    NaN   \n",
      "75%      981.000000     3.000000     1.000000               NaN    NaN   \n",
      "max     1308.000000     3.000000     1.000000               NaN    NaN   \n",
      "\n",
      "                age        sibsp        parch    ticket    fare        cabin  \\\n",
      "count   1046.000000  1309.000000  1309.000000      1309    1308          295   \n",
      "unique          NaN          NaN          NaN       929     263          186   \n",
      "top             NaN          NaN          NaN  CA. 2343  $8.05   C23 C25 C27   \n",
      "freq            NaN          NaN          NaN        11      60            6   \n",
      "mean      29.881135     0.498854     0.385027       NaN     NaN          NaN   \n",
      "std       14.413500     1.041658     0.865560       NaN     NaN          NaN   \n",
      "min        0.166700     0.000000     0.000000       NaN     NaN          NaN   \n",
      "25%       21.000000     0.000000     0.000000       NaN     NaN          NaN   \n",
      "50%       28.000000     0.000000     0.000000       NaN     NaN          NaN   \n",
      "75%       39.000000     1.000000     0.000000       NaN     NaN          NaN   \n",
      "max       80.000000     8.000000     9.000000       NaN     NaN          NaN   \n",
      "\n",
      "       embarked boat        body     home.dest  \n",
      "count      1307  486  121.000000           745  \n",
      "unique        3   27         NaN           369  \n",
      "top           S   13         NaN  New York, NY  \n",
      "freq        914   39         NaN            64  \n",
      "mean        NaN  NaN  160.809917           NaN  \n",
      "std         NaN  NaN   97.696922           NaN  \n",
      "min         NaN  NaN    1.000000           NaN  \n",
      "25%         NaN  NaN   72.000000           NaN  \n",
      "50%         NaN  NaN  155.000000           NaN  \n",
      "75%         NaN  NaN  256.000000           NaN  \n",
      "max         NaN  NaN  328.000000           NaN  \n"
     ]
    }
   ],
   "source": [
    "# Read data and describe it\n",
    "df = pd.read_csv(r'C:\\Users\\Admin\\Desktop\\dsc_weekday_1\\Assignments\\titanic_dataset.csv')\n",
    "# print(df.head(3))\n",
    "print(df.describe(include = 'all'))"
   ]
  },
  {
   "cell_type": "code",
   "execution_count": null,
   "metadata": {
    "scrolled": true
   },
   "outputs": [],
   "source": []
  },
  {
   "cell_type": "code",
   "execution_count": 3,
   "metadata": {},
   "outputs": [
    {
     "name": "stdout",
     "output_type": "stream",
     "text": [
      "Index(['age', 'fare', 'cabin', 'embarked', 'boat', 'body', 'home.dest'], dtype='object')\n"
     ]
    }
   ],
   "source": [
    "# Find columns with missing data\n",
    "\n",
    "print(df.columns[df.isna().any()])\n",
    "\n",
    "# a = df.count()\n",
    "# print(a)\n",
    "# a[a < df.shape[0]].index\n",
    "\n",
    "# print(df.columns[df.isnull().any()])"
   ]
  },
  {
   "cell_type": "code",
   "execution_count": 4,
   "metadata": {},
   "outputs": [
    {
     "name": "stdout",
     "output_type": "stream",
     "text": [
      "(1309, 15)\n"
     ]
    }
   ],
   "source": [
    "# Print shape of dataset\n",
    "\n",
    "print(df.shape)"
   ]
  },
  {
   "cell_type": "code",
   "execution_count": 5,
   "metadata": {},
   "outputs": [
    {
     "name": "stdout",
     "output_type": "stream",
     "text": [
      "Index(['Unnamed: 0', 'pclass', 'survived', 'name', 'gender', 'age', 'sibsp',\n",
      "       'parch', 'ticket', 'fare', 'embarked'],\n",
      "      dtype='object')\n"
     ]
    }
   ],
   "source": [
    "# drop columns with more than 25% missing data\n",
    "\n",
    "p = len(df)*.75\n",
    "df.dropna(thresh = p, axis=1, inplace = True)\n",
    "print(df.columns)"
   ]
  },
  {
   "cell_type": "code",
   "execution_count": 6,
   "metadata": {
    "scrolled": true
   },
   "outputs": [
    {
     "name": "stdout",
     "output_type": "stream",
     "text": [
      "Index(['pclass', 'survived', 'gender', 'age', 'sibsp', 'parch', 'ticket',\n",
      "       'fare', 'embarked'],\n",
      "      dtype='object')\n"
     ]
    }
   ],
   "source": [
    "# drop columns having independent values(which do not affect the survival rate).\n",
    "\n",
    "df.drop(columns = ['Unnamed: 0', 'name'], inplace= True)\n",
    "print(df.columns)"
   ]
  },
  {
   "cell_type": "code",
   "execution_count": 7,
   "metadata": {},
   "outputs": [
    {
     "name": "stdout",
     "output_type": "stream",
     "text": [
      "pclass        int64\n",
      "survived      int64\n",
      "gender       object\n",
      "age         float64\n",
      "sibsp         int64\n",
      "parch         int64\n",
      "ticket       object\n",
      "fare         object\n",
      "embarked     object\n",
      "dtype: object\n"
     ]
    }
   ],
   "source": [
    "# check data types of all columns\n",
    "\n",
    "print(df.dtypes)"
   ]
  },
  {
   "cell_type": "code",
   "execution_count": 8,
   "metadata": {},
   "outputs": [],
   "source": [
    "# convert price to numeric\n",
    "\n",
    "df['fare'] = df['fare'].str.replace('$','').astype('float64')"
   ]
  },
  {
   "cell_type": "code",
   "execution_count": 9,
   "metadata": {},
   "outputs": [
    {
     "name": "stdout",
     "output_type": "stream",
     "text": [
      "float64\n"
     ]
    }
   ],
   "source": [
    "print(df['fare'].dtypes)"
   ]
  },
  {
   "cell_type": "code",
   "execution_count": 10,
   "metadata": {},
   "outputs": [
    {
     "name": "stdout",
     "output_type": "stream",
     "text": [
      "Index(['age', 'fare', 'embarked'], dtype='object')\n",
      "age         263\n",
      "fare          1\n",
      "embarked      2\n",
      "dtype: int64\n"
     ]
    }
   ],
   "source": [
    "# find columns still having missing/na values and also count of missing data\n",
    "\n",
    "a = df.columns[df.isna().any()]\n",
    "print(a)\n",
    "c = df.shape[0]-df.count()\n",
    "print(c[a])"
   ]
  },
  {
   "cell_type": "code",
   "execution_count": 11,
   "metadata": {},
   "outputs": [
    {
     "name": "stdout",
     "output_type": "stream",
     "text": [
      "pclass      0\n",
      "survived    0\n",
      "gender      0\n",
      "age         0\n",
      "sibsp       0\n",
      "parch       0\n",
      "ticket      0\n",
      "fare        0\n",
      "embarked    2\n",
      "dtype: int64\n"
     ]
    }
   ],
   "source": [
    "# fill na with mean for fare and age column column.\n",
    "\n",
    "df.fare.fillna(round(df.fare.mean()), inplace = True)\n",
    "df.age.fillna(round(df.age.mean()), inplace = True)\n",
    "print(df.isna().sum())"
   ]
  },
  {
   "cell_type": "code",
   "execution_count": 12,
   "metadata": {},
   "outputs": [
    {
     "name": "stdout",
     "output_type": "stream",
     "text": [
      "pclass      0\n",
      "survived    0\n",
      "gender      0\n",
      "age         0\n",
      "sibsp       0\n",
      "parch       0\n",
      "ticket      0\n",
      "fare        0\n",
      "embarked    0\n",
      "dtype: int64\n"
     ]
    }
   ],
   "source": [
    "# drop na values for embarked column\n",
    "df.dropna(subset = ['embarked'], inplace = True)\n",
    "print(df.isna().sum())"
   ]
  },
  {
   "cell_type": "code",
   "execution_count": 13,
   "metadata": {},
   "outputs": [],
   "source": [
    "# dump the dataframe to a csv file 'titanic_filtered.csv'.\n",
    "\n",
    "df.to_csv('titanic_filtered.csv', index=False)"
   ]
  },
  {
   "cell_type": "code",
   "execution_count": 14,
   "metadata": {},
   "outputs": [
    {
     "name": "stdout",
     "output_type": "stream",
     "text": [
      "0       A\n",
      "1       A\n",
      "2       D\n",
      "3       D\n",
      "4       D\n",
      "       ..\n",
      "1304    D\n",
      "1305    D\n",
      "1306    D\n",
      "1307    D\n",
      "1308    D\n",
      "Name: survived, Length: 1307, dtype: object\n"
     ]
    }
   ],
   "source": [
    "# for survived column replace 0 with D and 1 with A\n",
    "\n",
    "df['survived'].replace({0:'D', 1: 'A'}, inplace =True)\n",
    "print(df['survived'])"
   ]
  },
  {
   "cell_type": "code",
   "execution_count": 15,
   "metadata": {},
   "outputs": [
    {
     "name": "stdout",
     "output_type": "stream",
     "text": [
      "D    809\n",
      "A    498\n",
      "Name: survived, dtype: int64\n"
     ]
    }
   ],
   "source": [
    "# find the frequency of different values in survived column\n",
    "\n",
    "print(df['survived'].value_counts())"
   ]
  },
  {
   "cell_type": "code",
   "execution_count": 16,
   "metadata": {},
   "outputs": [
    {
     "name": "stdout",
     "output_type": "stream",
     "text": [
      "        survived\n",
      "gender          \n",
      "female       464\n",
      "male         843\n"
     ]
    }
   ],
   "source": [
    "# group by gender and survived and see the counts in each category\n",
    "\n",
    "a= df.groupby(by = ['gender']).count()[['survived']]\n",
    "\n",
    "# print('Male survived: ',np.array(a['male',1]).size)\n",
    "\n",
    "# print('Female survived: ',np.array(a['female',1]).size)\n",
    "print(a)"
   ]
  },
  {
   "cell_type": "code",
   "execution_count": 17,
   "metadata": {},
   "outputs": [
    {
     "name": "stdout",
     "output_type": "stream",
     "text": [
      "3    709\n",
      "1    321\n",
      "2    277\n",
      "Name: pclass, dtype: int64\n"
     ]
    }
   ],
   "source": [
    "# find different pclass and no of people in each class\n",
    "\n",
    "g = df['pclass'].value_counts()\n",
    "print(g)\n",
    "\n",
    "# print(np.array(g[1]).size)"
   ]
  },
  {
   "cell_type": "code",
   "execution_count": 18,
   "metadata": {},
   "outputs": [
    {
     "name": "stdout",
     "output_type": "stream",
     "text": [
      "male      4\n",
      "female    1\n",
      "Name: gender, dtype: int64\n"
     ]
    }
   ],
   "source": [
    "# find top 5 people with highest values of age. Count no of male and females in the top 5\n",
    "print(df.sort_values(by ='age').head()['gender'].value_counts())\n"
   ]
  },
  {
   "cell_type": "code",
   "execution_count": 19,
   "metadata": {},
   "outputs": [
    {
     "name": "stdout",
     "output_type": "stream",
     "text": [
      "female    337\n",
      "male      161\n",
      "Name: gender, dtype: int64\n"
     ]
    }
   ],
   "source": [
    "# find max age male and female who survived\n",
    "\n",
    "a = (df['survived'] == 'A')\n",
    "\n",
    "print(df[a].gender.value_counts())\n",
    "\n",
    "# df['survived'].value_counts()"
   ]
  },
  {
   "cell_type": "code",
   "execution_count": 20,
   "metadata": {},
   "outputs": [
    {
     "name": "stdout",
     "output_type": "stream",
     "text": [
      "gender\n",
      "female    29.0\n",
      "male      30.0\n",
      "Name: age, dtype: float64\n"
     ]
    }
   ],
   "source": [
    "# get average age by gender\n",
    "\n",
    "print(round(df.groupby(by='gender')['age'].mean()))"
   ]
  },
  {
   "cell_type": "code",
   "execution_count": 21,
   "metadata": {},
   "outputs": [
    {
     "name": "stdout",
     "output_type": "stream",
     "text": [
      "survived\n",
      "A    29.0\n",
      "D    30.0\n",
      "Name: age, dtype: float64\n"
     ]
    }
   ],
   "source": [
    "# get average age by people survived vs not-survived\n",
    "\n",
    "print(round(df.groupby(by='survived')['age'].mean()))"
   ]
  }
 ],
 "metadata": {
  "kernelspec": {
   "display_name": "Python 3",
   "language": "python",
   "name": "python3"
  },
  "language_info": {
   "codemirror_mode": {
    "name": "ipython",
    "version": 3
   },
   "file_extension": ".py",
   "mimetype": "text/x-python",
   "name": "python",
   "nbconvert_exporter": "python",
   "pygments_lexer": "ipython3",
   "version": "3.7.6"
  }
 },
 "nbformat": 4,
 "nbformat_minor": 2
}
