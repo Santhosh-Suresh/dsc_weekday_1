{
 "cells": [
  {
   "cell_type": "markdown",
   "metadata": {},
   "source": [
    "# Boolean Assignment"
   ]
  },
  {
   "cell_type": "code",
   "execution_count": 5,
   "metadata": {},
   "outputs": [],
   "source": [
    "\n",
    "#Declare a boolean value and store it in a variable. \n",
    "is_learning = True"
   ]
  },
  {
   "cell_type": "code",
   "execution_count": 6,
   "metadata": {},
   "outputs": [
    {
     "data": {
      "text/plain": [
       "bool"
      ]
     },
     "execution_count": 6,
     "metadata": {},
     "output_type": "execute_result"
    }
   ],
   "source": [
    "#Check the type and print the id of the same.\n",
    "type(is_learning)"
   ]
  },
  {
   "cell_type": "code",
   "execution_count": 14,
   "metadata": {},
   "outputs": [],
   "source": [
    "#Take one boolean value between 0 - 256.\n",
    "#Assign it to two different variables.\n",
    "a = True\n",
    "var1 = var2 = int(a)"
   ]
  },
  {
   "cell_type": "code",
   "execution_count": 22,
   "metadata": {},
   "outputs": [
    {
     "name": "stdout",
     "output_type": "stream",
     "text": [
      "140733868581264\n",
      "140733868581264\n"
     ]
    }
   ],
   "source": [
    "#Check the id of both the variables. It should come same. Check why?\n",
    "print(id(var1))\n",
    "print(id(var2))\n",
    "# Both the values have same id because in python garbage collection and memory management is automatic \n",
    "# In case above , we have created a variable \"a\" and assigned its value to var1 and var2 , the id of a is thus assigned \n",
    "# to both the variables to avoid garbage collection so that variable with same values are saved as single id "
   ]
  },
  {
   "cell_type": "code",
   "execution_count": 41,
   "metadata": {},
   "outputs": [],
   "source": [
    "#Arithmatic Operations on boolean data\n",
    "#Take two different boolean values.\n",
    "#Store them in two different variables.\n",
    "var1 = 200\n",
    "var2 = 30\n"
   ]
  },
  {
   "cell_type": "code",
   "execution_count": 42,
   "metadata": {},
   "outputs": [
    {
     "name": "stdout",
     "output_type": "stream",
     "text": [
      "230\n"
     ]
    }
   ],
   "source": [
    "#Find sum of both values\n",
    "print(var1+var2)"
   ]
  },
  {
   "cell_type": "code",
   "execution_count": 43,
   "metadata": {},
   "outputs": [
    {
     "name": "stdout",
     "output_type": "stream",
     "text": [
      "170\n"
     ]
    }
   ],
   "source": [
    " #Find differce between them\n",
    "print(var1-var2)"
   ]
  },
  {
   "cell_type": "code",
   "execution_count": 44,
   "metadata": {},
   "outputs": [
    {
     "name": "stdout",
     "output_type": "stream",
     "text": [
      "6000\n"
     ]
    }
   ],
   "source": [
    "#Find the product of both.\n",
    "print(var1*var2)"
   ]
  },
  {
   "cell_type": "code",
   "execution_count": 45,
   "metadata": {},
   "outputs": [
    {
     "name": "stdout",
     "output_type": "stream",
     "text": [
      "6.666666666666667\n"
     ]
    }
   ],
   "source": [
    "#Find value after dividing first value with second value\n",
    "print(var1/var2)"
   ]
  },
  {
   "cell_type": "code",
   "execution_count": 48,
   "metadata": {},
   "outputs": [
    {
     "name": "stdout",
     "output_type": "stream",
     "text": [
      "20\n"
     ]
    }
   ],
   "source": [
    "#Find the remainder after dividing first value with second value\n",
    "print(var1%var2)"
   ]
  },
  {
   "cell_type": "code",
   "execution_count": 49,
   "metadata": {},
   "outputs": [
    {
     "name": "stdout",
     "output_type": "stream",
     "text": [
      "6\n"
     ]
    }
   ],
   "source": [
    "#Find the quotient after dividing first value with second value\n",
    "print(var1 //var2)"
   ]
  },
  {
   "cell_type": "code",
   "execution_count": 52,
   "metadata": {},
   "outputs": [
    {
     "data": {
      "text/plain": [
       "1073741824000000000000000000000000000000000000000000000000000000000000"
      ]
     },
     "execution_count": 52,
     "metadata": {},
     "output_type": "execute_result"
    }
   ],
   "source": [
    "#Find the result of first value to the power of second value.\n",
    "pow(var1,var2)"
   ]
  },
  {
   "cell_type": "code",
   "execution_count": 78,
   "metadata": {},
   "outputs": [
    {
     "name": "stdout",
     "output_type": "stream",
     "text": [
      "True\n",
      "False\n",
      "False\n",
      "False\n"
     ]
    }
   ],
   "source": [
    "#Comparison Operators on boolean values\n",
    "#Take two different boolean values.\n",
    "#Store them in two different variables.\n",
    "val1 = 10\n",
    "val2  = 5\n",
    "#Do below operations on them:-\n",
    "    #Compare these two values with below operator:-\n",
    "        #Greater than, '>'\n",
    "if (val1 > val2):\n",
    "    print( val1>val2)\n",
    "else :\n",
    "    print(val1>val2)\n",
    "\n",
    "    #less than, '<'\n",
    "if(val1 < val2):\n",
    "    print(val1 < val2)\n",
    "else:\n",
    "      print(val1 < val2)\n",
    " #Greater than or equal to, '>='\n",
    "if(val1 < val2):\n",
    "    print(val1 >= val2)\n",
    "else:\n",
    "      print(val1 < val2)\n",
    " #Less than or equal to, '<=' \n",
    "if(val1 <= val2):\n",
    "    print(val1 < val2)\n",
    "else:\n",
    "      print(val1 < val2)\n",
    "        \n",
    "# In python if is not supported with brackets , instead a \":\" works equivalent , condition that are not \n",
    "# met under the if would go to else statement block\n"
   ]
  },
  {
   "cell_type": "code",
   "execution_count": 88,
   "metadata": {},
   "outputs": [
    {
     "name": "stdout",
     "output_type": "stream",
     "text": [
      "values not matching :  False\n"
     ]
    }
   ],
   "source": [
    "#Equality Operator\n",
    "#Take two different boolean values.\n",
    "#Store them in two different variables.\n",
    "val1 = 100\n",
    "val2 = 120\n",
    "\n",
    "\n",
    "#Equuate them using equality operator (==, !=)\n",
    "if(val1==val2):\n",
    "    print(\"Values are Matching : \", val1==val2)\n",
    "else:\n",
    "        print(\"values not matching : \" , val1==val2)\n",
    "\n",
    "#Observe the output(return type should be boolean)\n",
    "#Output confirms the statement that the value mentioned does not matches"
   ]
  },
  {
   "cell_type": "code",
   "execution_count": 91,
   "metadata": {},
   "outputs": [
    {
     "name": "stdout",
     "output_type": "stream",
     "text": [
      "True\n",
      "False\n",
      "False\n",
      "False\n",
      "True\n",
      "True\n",
      "True\n",
      "False\n",
      "False\n",
      "True\n"
     ]
    }
   ],
   "source": [
    "#Logical operators\n",
    "#Observe the output of below code\n",
    "#Cross check the output manually\n",
    "\n",
    "print(True and True)        #----------------------------------------->Output is True\n",
    "print(False and True)        #----------------------------------------->Output is False\n",
    "print(True and False)        #----------------------------------------->Output is False\n",
    "print(False and False)       #----------------------------------------->Output is False\n",
    "\n",
    "print(True or True)          #----------------------------------------->Output is True\n",
    "print(False or True)         #----------------------------------------->Output is True\n",
    "print(True or False)         #----------------------------------------->Output is True\n",
    "print(False or False)        #----------------------------------------->Output is False\n",
    "\n",
    "print(not True)              #----------------------------------------->Output is False\n",
    "print(not False)             #----------------------------------------->Output is True\n",
    "\n",
    "# and operator check if both the condition are true , the output is true\n",
    "# or operator checks if any one of the condition is met , the output is true\n",
    "# not operator check reverse the result , it return false for true and viceversa "
   ]
  },
  {
   "cell_type": "code",
   "execution_count": 99,
   "metadata": {},
   "outputs": [
    {
     "name": "stdout",
     "output_type": "stream",
     "text": [
      "True\n",
      "False\n"
     ]
    }
   ],
   "source": [
    "#Bitwise Operators\n",
    "#Do below operations on the values provided below:-\n",
    "a = True\n",
    "b = True\n",
    "c = False\n",
    "d = False\n",
    "#Bitwise and(&) -----------------------------------------> True, True    -------> Output is True\n",
    "print(a&b) # returns true since both are true\n",
    "print(a&c) # returns false since one is true\n",
    "    "
   ]
  },
  {
   "cell_type": "code",
   "execution_count": 100,
   "metadata": {},
   "outputs": [
    {
     "name": "stdout",
     "output_type": "stream",
     "text": [
      "True\n",
      "False\n"
     ]
    }
   ],
   "source": [
    "#Bitwise or(|)  -----------------------------------------> True, False   -------> Output is True\n",
    "print(a|c) # returns true since a is true\n",
    "print(c|d) # return false since none is true\n"
   ]
  },
  {
   "cell_type": "code",
   "execution_count": 103,
   "metadata": {},
   "outputs": [
    {
     "name": "stdout",
     "output_type": "stream",
     "text": [
      "True\n"
     ]
    }
   ],
   "source": [
    " #Bitwise(^)     -----------------------------------------> True, False   -------> Output is True\n",
    "# Denotes Bitwise XOR\n",
    "print(a^c)\n",
    "# return true if only 1 of the value is true "
   ]
  },
  {
   "cell_type": "code",
   "execution_count": 108,
   "metadata": {},
   "outputs": [
    {
     "name": "stdout",
     "output_type": "stream",
     "text": [
      "-2\n"
     ]
    }
   ],
   "source": [
    "#Bitwise negation(~) ------------------------------------> True          -------> Output is -2\n",
    "print(~a)\n",
    "# returns "
   ]
  },
  {
   "cell_type": "code",
   "execution_count": 24,
   "metadata": {},
   "outputs": [
    {
     "name": "stdout",
     "output_type": "stream",
     "text": [
      "0b1\n",
      "0b10\n",
      "4\n",
      "0b100\n"
     ]
    }
   ],
   "source": [
    " #Bitwise left shift  ------------------------------------> True,2        -------> Output is 4\n",
    "a= True\n",
    "b = 2\n",
    "#a<<b\n",
    "print(bin(a))\n",
    "print(bin(b))\n",
    "print(a << b)\n",
    "print(bin(4))\n",
    "# 4 because binary number is shifted left by 2 digits hence 0b1 becomes 0b100 which is 4"
   ]
  },
  {
   "cell_type": "code",
   "execution_count": 31,
   "metadata": {},
   "outputs": [
    {
     "name": "stdout",
     "output_type": "stream",
     "text": [
      "0b1\n",
      "0\n",
      "0b0\n"
     ]
    }
   ],
   "source": [
    "#Bitwise right shift ------------------------------------> True,2        -------> Output is 0\n",
    "a= True\n",
    "b = 2\n",
    "print(bin(a))\n",
    " \n",
    "print(a >> b)\n",
    "print(bin(a >> b))\n",
    "\n",
    "# 0 because binary number is shifted right by 2  hence 0b1 becomes 0b000 which is 0"
   ]
  },
  {
   "cell_type": "code",
   "execution_count": 2,
   "metadata": {},
   "outputs": [
    {
     "name": "stdout",
     "output_type": "stream",
     "text": [
      "True\n",
      "False\n",
      "True\n",
      "False\n"
     ]
    }
   ],
   "source": [
    "#What is the output of expression inside print statement. Cross check before running the program.\n",
    "a = True\n",
    "b = True\n",
    "print(a is b)          #True or False?   #   True as identity of a & b is same \n",
    "print(a is not b)      #True or False?   #   False as identity is same \n",
    "\n",
    "a = False    \n",
    "b = False\n",
    "print(a is b)          #True or False?   #  True again as identity is same \n",
    "print(a is not b)      #True or False?   # False as identity is same and statement is cheking \n"
   ]
  },
  {
   "cell_type": "code",
   "execution_count": 5,
   "metadata": {},
   "outputs": [
    {
     "name": "stdout",
     "output_type": "stream",
     "text": [
      "True\n",
      "True\n",
      "True\n",
      "True\n",
      "True\n"
     ]
    }
   ],
   "source": [
    "#Membership operation\n",
    "#in, not in are two membership operators and it returns boolean value\n",
    "\n",
    "print(True in [10,10.20,10+20j,'Python', True])  # True because True exist in the list \n",
    "print(False in (10,10.20,10+20j,'Python', False)) # True because False exist in the list\n",
    "print(True in {1,2,3, True})                       # True becase True exist in the list \n",
    "print(True in {True:100, False:200, True:300})  # True because element exist that has value set \n",
    "print(False in {True:100, False:200, True:300})# True because element exist that has value set "
   ]
  },
  {
   "cell_type": "markdown",
   "metadata": {},
   "source": [
    "# Float Assignments"
   ]
  },
  {
   "cell_type": "code",
   "execution_count": 6,
   "metadata": {},
   "outputs": [
    {
     "name": "stdout",
     "output_type": "stream",
     "text": [
      "8.0\n"
     ]
    }
   ],
   "source": [
    "#Declare a float value and store it in a variable. \n",
    "val = 8.0\n",
    "print(val)"
   ]
  },
  {
   "cell_type": "code",
   "execution_count": 7,
   "metadata": {},
   "outputs": [
    {
     "name": "stdout",
     "output_type": "stream",
     "text": [
      "<class 'float'>\n",
      "587330880144\n"
     ]
    }
   ],
   "source": [
    "#Check the type and print the id of the same.\n",
    "print(type(val))\n",
    "print(id(val))"
   ]
  },
  {
   "cell_type": "code",
   "execution_count": 43,
   "metadata": {},
   "outputs": [
    {
     "name": "stdout",
     "output_type": "stream",
     "text": [
      "Sum :  37.0\n",
      "Difference : 19.0\n",
      "Product :  252.0\n",
      "Division :  3.111111111111111\n",
      "Remainder : : 1.0\n",
      "Quotient  : 3.0\n",
      "to the power of :  10578455953408.0\n"
     ]
    }
   ],
   "source": [
    "#Arithmatic Operations on float\n",
    "#Take two different float values.\n",
    "#Store them in two different variables.\n",
    "val1 = 28.0\n",
    "val2 = 9.0\n",
    "\n",
    "#Do below operations on them:-\n",
    "    #Find sum of both numbers\n",
    "sum_val = val1+val2;\n",
    "print(\"Sum : \",sum_val);\n",
    "\n",
    "    #Find differce between them\n",
    "diff_val = val1 - val2;\n",
    "print(\"Difference :\",diff_val);\n",
    "    \n",
    "    #Find the product of both numbers.\n",
    "prod_val = val1 * val2\n",
    "print(\"Product : \",prod_val)\n",
    "\n",
    "    #Find value after dividing first num with second number\n",
    "div_val = val1 / val2;\n",
    "print(\"Division : \",div_val)\n",
    "    \n",
    "    #Find the remainder after dividing first number with second number\n",
    "rem_val = val1 % val2\n",
    "print(\"Remainder : :\" , rem_val)\n",
    "\n",
    "    #Find the quotient after dividing first number with second number\n",
    "quo_val = val1 // val2    \n",
    "print(\"Quotient  :\" , quo_val)\n",
    "\n",
    "    #Find the result of first num to the power of second number.\n",
    "print(\"to the power of : \",val1**val2)    "
   ]
  },
  {
   "cell_type": "code",
   "execution_count": 49,
   "metadata": {},
   "outputs": [
    {
     "name": "stdout",
     "output_type": "stream",
     "text": [
      "True\n",
      "False\n",
      "True\n",
      "False\n"
     ]
    }
   ],
   "source": [
    "#Comparison Operators on float\n",
    "#Take two different float values.\n",
    "#Store them in two different variables.\n",
    "val1 = 50.0\n",
    "val2 = 25.0\n",
    "#Do below operations on them:-\n",
    "    #Compare these two numbers with below operator:-\n",
    "        #Greater than, '>'\n",
    "print(val1>val2)         # return true since 50 > 25\n",
    "\n",
    "        #Smaller than, '<'\n",
    "print(val1<val2)     # return false since 50 < 25\n",
    "\n",
    "        #Greater than or equal to, '>='\n",
    "print(val1>=val2)    # return true , 50 >=25\n",
    "\n",
    "        #Less than or equal to, '<='\n",
    "print(val1<=val2)    # return false , 50 <=25\n",
    "\n",
    "#Observe their output(return type should be boolean)\n"
   ]
  },
  {
   "cell_type": "code",
   "execution_count": 52,
   "metadata": {},
   "outputs": [
    {
     "name": "stdout",
     "output_type": "stream",
     "text": [
      "False\n",
      "True\n"
     ]
    }
   ],
   "source": [
    "#Equality Operator\n",
    "#Take two different float values.\n",
    "#Store them in two different variables.\n",
    "val1 = 50.0\n",
    "val2 = 20.0\n",
    "\n",
    "#Equuate them using equality operator (==, !=)\n",
    "print(val1==val2)  # they are no equal , hence false \n",
    "print(val1!=val2)  # they are not equal and so does the statement says, hence true\n",
    "\n",
    "#Observe the output(return type should be boolean)\n"
   ]
  },
  {
   "cell_type": "code",
   "execution_count": 54,
   "metadata": {},
   "outputs": [
    {
     "name": "stdout",
     "output_type": "stream",
     "text": [
      "20.3\n",
      "0.0\n",
      "0.0\n",
      "0.0\n",
      "10.2\n",
      "20.3\n",
      "20.3\n",
      "0.0\n",
      "False\n",
      "True\n"
     ]
    }
   ],
   "source": [
    "#Logical operators\n",
    "#Observe the output of below code\n",
    "#Cross check the output manually\n",
    "\n",
    "print(10.20 and 20.30)       #both are true and second value taken >Output is 20.3  \n",
    "                            # Value is > 0 and hence would return until last true which is output\n",
    "    \n",
    "print(0.0 and 20.30)         #First is false so first value taken->Output is 0.0\n",
    "                            # Value is 0 , hence first output taken \n",
    "\n",
    "print(20.30 and 0.0)         #Goes to till second and second value is false so second is taken>Output is 0.0\n",
    "                             # Value is 0 , last output taken \n",
    "\n",
    "print(0.0 and 0.0)           #First is false so first value is taken->Output is 0.0\n",
    "                            # First is false and stops returnting first value\n",
    "\n",
    "print(10.20 or 20.30)        #First is True so first value is taken>Output is 10.2\n",
    "                            # or condition return first true \n",
    "\n",
    "print(0.0 or 20.30)          #Goes to till second and second is true second value is taken->Output is 20.3\n",
    "                            # or condition return second , since first is false\n",
    "    \n",
    "print(20.30 or 0.0)          #First is True so first value is taken->Output is 20.3\n",
    "                            # or condition returns first as first is true \n",
    "    \n",
    "print(0.0 or 0.0)            #Goes to till second and secod is also false and second value is taken>Output is 0.0\n",
    "                            # Last value since all are false \n",
    "\n",
    "print(not 10.20)             #-Not of true is false->Output is False\n",
    "                            # not of 10.20 is false \n",
    "print(not 0.0)               #Not of false is True>Output is True\n",
    "                            # not false is true as defaukt return"
   ]
  },
  {
   "cell_type": "code",
   "execution_count": 64,
   "metadata": {},
   "outputs": [
    {
     "name": "stdout",
     "output_type": "stream",
     "text": [
      "587330880464 587334540496 <class 'float'> <class 'float'>\n",
      "False\n",
      "True\n"
     ]
    }
   ],
   "source": [
    "#What is the output of expression inside print statement. Cross check before running the program.\n",
    "a = 10.20\n",
    "b = 10.20\n",
    "print(id(a),id(b) , type(a),type(b))\n",
    "print(a is b)          #True or False? True 10.20<256\n",
    "print(a is not b)      #True or False? False\n",
    "\n",
    "\n",
    "# Why the Id of float values are different when the same value is assigned to two different variables\n",
    "# ex: a = 10.5 b=10.5. but id will be same if I assign the variable having float i.e. a=c then both a anc c's\n",
    "# Id are same\n",
    "\n",
    "# they are equal but not identical with different id since float are saved diffeently for each variable  , their values are same but they are two different elements "
   ]
  },
  {
   "cell_type": "code",
   "execution_count": 66,
   "metadata": {},
   "outputs": [
    {
     "name": "stdout",
     "output_type": "stream",
     "text": [
      "587330882416 587330882416 Same\n",
      "587330883440 587334540496 Diffrent\n"
     ]
    }
   ],
   "source": [
    "#Bitwise operation is not applicable between instances of float.\n",
    "## Why the Id of float values are different when the same value is assigned to two different variables\n",
    "## ex: a = 10.5 b=10.5. but id will be same if I assign the variable having float i.e. a=c then both a anc c's\n",
    "## Id are same\n",
    "#Object reusability concept is not applicable on float values.\n",
    "''' When this function gets compiled into bytecode, the literal 10.5 becomes a local constant of the function fn.\n",
    "Python is smart enough to see that the first 10.5 is the same as the second 10.5 so it gets stored only once.\n",
    "At runtime, the function will load the constant from the functions co_consts and store it in f1 and f2 respectively. \n",
    "This is why f1 and f2 have the same id: They are references to the same constant.\n",
    " \n",
    " But 10.5 + 0 does not have the same id because the original constant 10.5 is immutable and\n",
    "    Python does not just skip the (otherwise idempotent) addition.     \n",
    "    The result of the addition, therefore, has to be a new object, hence a different id.\n",
    "    Lets Check it  now : '''\n",
    "a = b = 10.5\n",
    "print(id(a),id(b),\"Same\")\n",
    "a = 10.5 \n",
    "b = 10.5\n",
    "print(id(a),id(b),\"Diffrent\")\n",
    "\n",
    "\n"
   ]
  },
  {
   "cell_type": "code",
   "execution_count": 67,
   "metadata": {},
   "outputs": [
    {
     "name": "stdout",
     "output_type": "stream",
     "text": [
      "True\n",
      "True\n",
      "True\n",
      "True\n",
      "True\n",
      "True\n"
     ]
    }
   ],
   "source": [
    "#Membership operation\n",
    "#in, not in are two membership operators and it returns boolean value\n",
    "\n",
    "print('2.7' in 'Python2.7.8')              #True Exist in the String\n",
    "print(10.20 in [10,10.20,10+20j,'Python']) #True Exist in the list \n",
    "print(10.20 in (10,10.20,10+20j,'Python')) # True Exist in the list \n",
    "print(20.30 in {1,20.30,30+40j})           # True Exist in the list \n",
    "print(2.3 in {1:100, 2.3:200, 30+40j:300}) # True Exist \n",
    "print(10 in range(20))                     # True Exist since range 20 containts 10 "
   ]
  },
  {
   "cell_type": "markdown",
   "metadata": {},
   "source": [
    "# Complex Assignment\n"
   ]
  },
  {
   "cell_type": "code",
   "execution_count": 77,
   "metadata": {},
   "outputs": [
    {
     "name": "stdout",
     "output_type": "stream",
     "text": [
      "(10+5j)\n",
      "<class 'complex'> 587333079408\n"
     ]
    }
   ],
   "source": [
    "#Declare a complex number and store it in a variable. \n",
    "x=10\n",
    "y = 5\n",
    "z = complex(x,y)\n",
    "print(z)\n",
    "\n",
    "#Check the type and print the id of the same.\n",
    "print(type(z) , id(z))"
   ]
  },
  {
   "cell_type": "code",
   "execution_count": 83,
   "metadata": {},
   "outputs": [
    {
     "name": "stdout",
     "output_type": "stream",
     "text": [
      "(5+2j) (6+7j)\n",
      "(11+9j)\n",
      "(-1-5j)\n",
      "(16+47j)\n",
      "(0.5176470588235295-0.27058823529411763j)\n",
      "(116.51240542734763+1695.933294469271j)\n"
     ]
    }
   ],
   "source": [
    "#Arithmatic Operations on complex number\n",
    "#Take two different complex number.\n",
    "#Store them in two different variables.\n",
    "var1 = complex(5,2)\n",
    "var2 = complex(6,7)\n",
    "print(var1,var2)\n",
    "\n",
    "#Do below operations on them:-\n",
    "    #Find sum of both numbers\n",
    "print(var1+var2)    \n",
    "    #Find differce between them\n",
    "print(var1-var2)    \n",
    "    #Find the product of both numbers.\n",
    "print(var1*var2)    \n",
    "    #Find value after dividing first num with second number\n",
    "print(var1 / var2)    \n",
    "    #Find the result of first num to the power of second number.\n",
    "print(var1**var2)    "
   ]
  },
  {
   "cell_type": "code",
   "execution_count": null,
   "metadata": {},
   "outputs": [],
   "source": [
    "#Comparison Operation not applicable between instance of complex values\n",
    "#Object reusability concept is not applicable on complex numebr\n",
    "\n",
    "'''Two complex numbers can be compared for equality or inequality, using the operators == and != . \n",
    "Two values are equal if their corresponding fields are equal. \n",
    "Complex numbers are not well-ordered, and thus cannot be compared using any other relational operator.'''"
   ]
  },
  {
   "cell_type": "code",
   "execution_count": 87,
   "metadata": {},
   "outputs": [
    {
     "name": "stdout",
     "output_type": "stream",
     "text": [
      "(5+1j) (5+2j)\n",
      "False\n",
      "True\n"
     ]
    }
   ],
   "source": [
    "#Equality Operator\n",
    "#Take two different complex numbers.\n",
    "#Store them in two different variables.\n",
    "#Equuate them using equality operator (==, !=)\n",
    "#Observe the output(return type should be boolean)\n",
    "var1 = complex(5,1)\n",
    "var2 = complex(7,2)\n",
    "print(var1,var2)\n",
    "print(var1==var2)\n",
    "print(var1!=var2)\n",
    "\n",
    "# Real & imaginary values of the complex numbers are different , and condition needs to be true, hence the match is false"
   ]
  },
  {
   "cell_type": "code",
   "execution_count": 90,
   "metadata": {},
   "outputs": [
    {
     "name": "stdout",
     "output_type": "stream",
     "text": [
      "(20+30j)\n",
      "0j\n",
      "0j\n",
      "0j\n",
      "(10+20j)\n",
      "(20+30j)\n",
      "(20+30j)\n",
      "0j\n",
      "False\n",
      "True\n"
     ]
    }
   ],
   "source": [
    "#Logical operators\n",
    "#Observe the output of below code\n",
    "#Cross check the output manually\n",
    "\n",
    "print(10+20j and 20+30j)    #20+30j    #----------------------------------------->Output is 20+30j , Last true\n",
    "print(0+0j and 20+30j)      #0+0j    #----------------------------------------->Output is 0j First True\n",
    "print(20+30j and 0+0j)      #0+0j   #----------------------------------------->Output is 0j Second True\n",
    "print(0+0j and 0+0j)        #0+0j   #----------------------------------------->Output is 0j First True\n",
    "\n",
    "print(10+20j or 20+30j)     #10+20j   #----------------------------------------->Output is 10+20j First True\n",
    "print(0+0j or 20+30j)       #20+30j   #----------------------------------------->Output is 20+30j Second True\n",
    "print(20+30j or 0+0j)       #20+30j  #----------------------------------------->Output is 20+30j First Trye\n",
    "print(0+0j or 0+0j)         #0+0j   #----------------------------------------->Output is 0j First True\n",
    "\n",
    "print(not 10+20j)           #False   #----------------------------------------->Output is False Not True\n",
    "print(not 0+0j)             #True   #----------------------------------------->Output is True Zero Value Hence True"
   ]
  },
  {
   "cell_type": "code",
   "execution_count": 94,
   "metadata": {},
   "outputs": [
    {
     "name": "stdout",
     "output_type": "stream",
     "text": [
      "587334540432 587334539920\n",
      "False\n",
      "True\n"
     ]
    }
   ],
   "source": [
    "#What is the output of expression inside print statement. Cross check before running the program.\n",
    "a = 10+20j\n",
    "b = 10+20j\n",
    "\n",
    "print(id(a),id(b)) # Not Defined as constant , hence seperate storage  and is would return a not match\n",
    "\n",
    "print(a is b)       #False   #True or False?\n",
    "print(a is not b)   #True   #True or False?\n",
    "\n"
   ]
  },
  {
   "cell_type": "code",
   "execution_count": 96,
   "metadata": {},
   "outputs": [
    {
     "name": "stdout",
     "output_type": "stream",
     "text": [
      "True\n",
      "True\n",
      "True\n",
      "True\n",
      "True\n",
      "True\n"
     ]
    }
   ],
   "source": [
    "#Membership operation\n",
    "#in, not in are two membership operators and it returns boolean value\n",
    "\n",
    "print('2.7' in 'Python2.7.8')                      #True exist \n",
    "print(10+20j in [10,10.20,10+20j,'Python'])        #True exit\n",
    "print(10+20j in (10,10.20,10+20j,'Python'))        #True exist\n",
    "print(30+40j in {1,20.30,30+40j})                  #True exist\n",
    "print(30+40j in {1:100, 2.3:200, 30+40j:300})      #True exist\n",
    "print(10 in range(20))                             #True exist\n"
   ]
  },
  {
   "cell_type": "markdown",
   "metadata": {},
   "source": [
    "# Int Assignment"
   ]
  },
  {
   "cell_type": "code",
   "execution_count": 106,
   "metadata": {},
   "outputs": [
    {
     "name": "stdout",
     "output_type": "stream",
     "text": [
      "<class 'int'> 140733857178288\n"
     ]
    }
   ],
   "source": [
    "#Declare an int value and store it in a variable. \n",
    "\n",
    "var1  = 10\n",
    "#Check the type and print the id of the same.\n",
    "print(type(var1),id(var1))\n",
    "\n"
   ]
  },
  {
   "cell_type": "code",
   "execution_count": 113,
   "metadata": {},
   "outputs": [
    {
     "name": "stdout",
     "output_type": "stream",
     "text": [
      "140733857178544 140733857178544\n",
      "140733857177936 587333081968\n"
     ]
    }
   ],
   "source": [
    "#Take one int value between 0 - 256.\n",
    "#Assign it to two different variables.\n",
    "#Check the id of both the variables. It should come same. Check why?\n",
    "\n",
    "var1 = 18\n",
    "var2  = 18\n",
    "print(id(var1), id(var2))\n",
    "\n",
    "Anything \n",
    "\n",
    "#Take one int value either less than -5 or greater than 256.\n",
    "#Assign it to two different variables.\n",
    "#Check the id of both the variables. It should come different.Check why?\n",
    "var1 = -1\n",
    "var2 = 500\n",
    "print(id(var1),id(var2))\n",
    "\n",
    "'''\n",
    "For purposes of optimization, the interpreter creates objects for the integers in the range [-5, 256] at startup, \n",
    "and then reuses them during program execution. \n",
    "Thus, when you assign separate variables to an integer value in this range, they will actually reference the same object.\n",
    "'''"
   ]
  },
  {
   "cell_type": "code",
   "execution_count": 129,
   "metadata": {},
   "outputs": [
    {
     "name": "stdout",
     "output_type": "stream",
     "text": [
      "Sum : 250\n",
      "Difference : 150\n",
      "product: 10000\n",
      "division :  4.0\n",
      "Remainder is : 0\n",
      "Quotient is :  4\n",
      "Power of : 11258999068426240000000000000000000000000000000000000000000000000000000000000000000000000000000000000000000000000000\n"
     ]
    }
   ],
   "source": [
    "#Arithmatic Operations on integers\n",
    "#Take two different intger values.\n",
    "#Store them in two different variables.\n",
    "var1 = 200\n",
    "var2 = 50\n",
    "\n",
    "#Do below operations on them:-\n",
    "    #Find sum of both numbers\n",
    "print(\"Sum :\",var1+var2)\n",
    "    #Find differce between them\n",
    "print(\"Difference :\",var1-var2)    \n",
    "    #Find the product of both numbers.\n",
    "print(\"product:\",var1*var2)    \n",
    "    #Find value after dividing first num with second number\n",
    "print(\"division : \",var1 / var2)    \n",
    "    #Find the remainder after dividing first number with second number\n",
    "print(\"Remainder is :\",var1 % var2)    \n",
    "    #Find the quotient after dividing first number with second number\n",
    "print(\"Quotient is : \",var1 // var2)\n",
    "    #Find the result of first num to the power of second number.\n",
    "print(\"Power of :\",var1 ** var2)    "
   ]
  },
  {
   "cell_type": "code",
   "execution_count": 139,
   "metadata": {},
   "outputs": [
    {
     "name": "stdout",
     "output_type": "stream",
     "text": [
      "False\n",
      "True\n",
      "False\n",
      "True\n"
     ]
    }
   ],
   "source": [
    "#Comparison Operators on integers\n",
    "#Take two different intger values.\n",
    "#Store them in two different variables.\n",
    "var1 = 100\n",
    "var2 = 500\n",
    "#Do below operations on them:-\n",
    "    #Compare se two numbers with below operator:-\n",
    "        #Greater than, '>'\n",
    "print(var1>var2)   \n",
    "        #Smaller than, '<'\n",
    "print(var1<var2)    \n",
    "        #Greater than or equal to, '>='\n",
    "print(var1>=var2)   \n",
    "        #Less than or equal to, '<='\n",
    "print(var1<=var2)  \n",
    "#Observe their output(return type should be boolean)\n",
    "#it checks the two variables and is perorming expected operation  \n"
   ]
  },
  {
   "cell_type": "code",
   "execution_count": 142,
   "metadata": {},
   "outputs": [
    {
     "name": "stdout",
     "output_type": "stream",
     "text": [
      "False True\n"
     ]
    }
   ],
   "source": [
    "#Equality Operator\n",
    "#Take two different intger values.\n",
    "#Store them in two different variables.\n",
    "var1 = 500\n",
    "var2 = 200\n",
    "\n",
    "#Equuate them using equality operator (==, !=)\n",
    "print(var1==var2 , var1!=var2)\n",
    "\n",
    "#Observe the output(return type should be boolean)\n",
    "# Delivering as expected"
   ]
  },
  {
   "cell_type": "code",
   "execution_count": 144,
   "metadata": {},
   "outputs": [
    {
     "name": "stdout",
     "output_type": "stream",
     "text": [
      "20\n",
      "0\n",
      "0\n",
      "0\n",
      "10\n",
      "20\n",
      "20\n",
      "0\n",
      "False\n",
      "True\n"
     ]
    }
   ],
   "source": [
    "#Logical operators\n",
    "#Observe the output of below code\n",
    "#Cross check the output manually\n",
    "\n",
    "print(10 and 20)       #----------------------------------------->Output is 20 # Returns 20 , Verify after last true\n",
    "print(0 and 20)        #----------------------------------------->Output is 0  # Return 0 , First Condition Met\n",
    "print(20 and 0)        #----------------------------------------->Output is 0 # Return 0 , Last Condition False\n",
    "print(0 and 0)         #----------------------------------------->Output is 0 # First Met \n",
    "\n",
    "print(10 or 20)        #----------------------------------------->Output is 10 First Met \n",
    "print(0 or 20)         #----------------------------------------->Output is 20 Second MEt\n",
    "print(20 or 0)         #----------------------------------------->Output is 20 First Met\n",
    "print(0 or 0)          #----------------------------------------->Output is 0 First Met\n",
    "\n",
    "print(not 10)          #----------------------------------------->Output is False Not Met \n",
    "print(not 0)           #----------------------------------------->Output is True Met "
   ]
  },
  {
   "cell_type": "code",
   "execution_count": 154,
   "metadata": {},
   "outputs": [
    {
     "name": "stdout",
     "output_type": "stream",
     "text": [
      "0\n",
      "30\n",
      "30\n",
      "-11\n",
      "40\n",
      "2\n"
     ]
    }
   ],
   "source": [
    "#Bitwise Operators\n",
    "var1 = 10  \n",
    "var2 = 20\n",
    "#Do below operations on the values provided below:-\n",
    "    #Bitwise and(&) -----------------------------------------> 10, 20   -------> Output is 0\n",
    "print(var1&var2)\n",
    "    #Bitwise or(|)  -----------------------------------------> 10, 20   -------> Output is 30\n",
    "print(var1|var2)    \n",
    "    #Bitwise(^)     -----------------------------------------> 10, 20   -------> Output is 30\n",
    "print(var1^var2)    \n",
    "    #Bitwise negation(~) ------------------------------------> 10       -------> Output is -11\n",
    "print(~var1)    \n",
    "    #Bitwise left shift  ------------------------------------> 10,2     -------> Output is 40\n",
    "print(var1 << 2)    \n",
    "    #Bitwise right shift ------------------------------------> 10,2     -------> Output is 2\n",
    "print(var1 >> 2)    \n",
    "#Cross check the output manually"
   ]
  },
  {
   "cell_type": "code",
   "execution_count": 157,
   "metadata": {},
   "outputs": [
    {
     "name": "stdout",
     "output_type": "stream",
     "text": [
      "True\n",
      "False\n",
      "False\n",
      "True\n"
     ]
    }
   ],
   "source": [
    "#What is the output of expression inside print statement. Cross check before running the program.\n",
    "a = 10\n",
    "b = 10\n",
    "print(a is b)          #True or False? they are same since between -5 and 256\n",
    "print(a is not b)      #True or False? false \n",
    "\n",
    "a = 1000\n",
    "b = 1000\n",
    "print(a is b)          #True or False? not same since more than 256\n",
    "print(a is not b)      #True or False? true"
   ]
  },
  {
   "cell_type": "code",
   "execution_count": 160,
   "metadata": {},
   "outputs": [
    {
     "name": "stdout",
     "output_type": "stream",
     "text": [
      "20\n"
     ]
    }
   ],
   "source": [
    "#What is the output of expression inside print statement. Cross check before running the program.\n",
    "print(10+(10*32)//2**5&20+(~(-10))<<2)"
   ]
  },
  {
   "cell_type": "code",
   "execution_count": 166,
   "metadata": {},
   "outputs": [
    {
     "name": "stdout",
     "output_type": "stream",
     "text": [
      "True\n",
      "True\n",
      "True\n",
      "True\n",
      "True\n",
      "True\n"
     ]
    }
   ],
   "source": [
    "#Membership operation\n",
    "#in, not in are two membership operators and it returns boolean value\n",
    "\n",
    "print('2' in 'Python2.7.8')   # exist\n",
    "print(10 in [10,10.20,10+20j,'Python']) # exist\n",
    "print(10 in (10,10.20,10+20j,'Python')) # exist\n",
    "print(2 in {1,2,3}) # exist\n",
    "print(3 in {1:100, 2:200, 3:300}) # exist\n",
    "print(10 in range(20)) # exist"
   ]
  },
  {
   "cell_type": "code",
   "execution_count": 172,
   "metadata": {},
   "outputs": [
    {
     "name": "stdout",
     "output_type": "stream",
     "text": [
      "0b1100100 0o144 0x64\n",
      "0b10011010010100 0o23224 0x2694\n"
     ]
    }
   ],
   "source": [
    "#An integer can be represented in binary, octal or hexadecimal form.\n",
    "#Declare one binary, one octal and one hexadecimal value and store them in three different variables.\n",
    "var1 = 100\n",
    "bin_var = bin(var1)\n",
    "oct_var = oct(var1)\n",
    "hex_var = hex(var1)\n",
    "print(bin_var, oct_var, hex_var)\n",
    "\n",
    "#Convert 9876 to its binary, octal and hexadecimal equivalent and print their corresponding value.\n",
    "var1 = 9876\n",
    "bin_var = bin(var1)\n",
    "oct_var = oct(var1)\n",
    "hex_var = hex(var1)\n",
    "print(bin_var, oct_var, hex_var)"
   ]
  },
  {
   "cell_type": "code",
   "execution_count": 173,
   "metadata": {},
   "outputs": [
    {
     "name": "stdout",
     "output_type": "stream",
     "text": [
      "80\n",
      "3870\n",
      "64222\n",
      "0b1010000\n",
      "0o7436\n",
      "0xfade\n",
      "0b1010000\n",
      "0b1111101011011110\n",
      "0o175336\n",
      "0o7436\n",
      "0x50\n",
      "0xfade\n"
     ]
    }
   ],
   "source": [
    "#What will be the outut of following:-\n",
    "a = 0b1010000\n",
    "print(a)\n",
    "\n",
    "b = 0o7436\n",
    "print(b)\n",
    "\n",
    "c = 0xfade\n",
    "print(c)\n",
    "\n",
    "print(bin(80))\n",
    "\n",
    "print(oct(3870))\n",
    "\n",
    "print(hex(64222))\n",
    "\n",
    "print(bin(0b1010000))\n",
    "\n",
    "print(bin(0xfade))\n",
    "\n",
    "print(oct(0xfade))\n",
    "\n",
    "print(oct(0o7436))\n",
    "\n",
    "print(hex(0b1010000))\n",
    "\n",
    "print(hex(0xfade))"
   ]
  }
 ],
 "metadata": {
  "kernelspec": {
   "display_name": "Python 3",
   "language": "python",
   "name": "python3"
  },
  "language_info": {
   "codemirror_mode": {
    "name": "ipython",
    "version": 3
   },
   "file_extension": ".py",
   "mimetype": "text/x-python",
   "name": "python",
   "nbconvert_exporter": "python",
   "pygments_lexer": "ipython3",
   "version": "3.7.6"
  }
 },
 "nbformat": 4,
 "nbformat_minor": 4
}
