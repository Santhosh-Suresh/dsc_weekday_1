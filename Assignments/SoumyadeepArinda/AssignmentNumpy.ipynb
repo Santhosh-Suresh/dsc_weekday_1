{
 "cells": [
  {
   "cell_type": "markdown",
   "metadata": {},
   "source": [
    "## NUMPY\n",
    "- create a numpy array of 5 zeros.\n",
    "    - check datatype, itemsize and shape of above\n",
    "- create a numpy array of ones of shape (5,4)\n",
    "- create a matrix of shape 4,5 with numbers from 1-20\n",
    "- multiply all elements of above array by 10\n",
    "- print odd elements from array\n",
    "- replace all even elements by their negative\n",
    "  \n",
    "  \n",
    "  \n",
    "- create a linearly spaced matrix M1 of size 4x4 having values in range 1-16\n",
    "- create a transpose of above matrix call it M2\n",
    "- find sum of above matrix M3 = (M1 + M2)\n",
    "- Find Transpose of M3, Call it MT1. Check if M3 == MT1\n",
    "- find diffrence of M4 = (M1 - M2)\n",
    "- Find Transpose of M4, Call it MT2. Check if M4 == MT2. Also check if M4 == -MT2\n",
    "  \n",
    "\n",
    "- create a matrix (3x4) R1 of random numbers between 10-40\n",
    "- find min and max column wise\n",
    "- replace the last column with sum of all the columns\n",
    "\n",
    "\n",
    "- create a matrix (3x4) R1 of random numbers between 10-40\n",
    "- replace all even elements with nan in R1\n",
    "- count number of nan in R1\n",
    "\n",
    "\n",
    "\n",
    "- check output of this code  \n",
    "`a1 = np.arange(1,10).reshape(3,3)\n",
    "a2 = np.arange(11,20).reshape(3,3)\n",
    "a3 = np.append(a1,a2)\n",
    "print(a3)\n",
    "a3 = np.append(a1,a2, axis = 0)\n",
    "print(a3)\n",
    "a3 = np.append(a1,a2, axis = 1)\n",
    "print(a3)\n",
    "`\n"
   ]
  },
  {
   "cell_type": "code",
   "execution_count": 1,
   "metadata": {},
   "outputs": [],
   "source": [
    "import numpy as np"
   ]
  },
  {
   "cell_type": "code",
   "execution_count": 7,
   "metadata": {},
   "outputs": [
    {
     "name": "stdout",
     "output_type": "stream",
     "text": [
      "[0 0 0 0 0]\n",
      "<class 'numpy.ndarray'>\n",
      "int8\n",
      "1\n",
      "(5,)\n"
     ]
    }
   ],
   "source": [
    "# create a numpy array of 5 zeros.\n",
    "a = np.zeros(5, dtype = 'int8')\n",
    "print(a)\n",
    "\n",
    "# check datatype, itemsize and shape of above\n",
    "print(type(a))\n",
    "print(a.dtype)\n",
    "print(a.itemsize)\n",
    "print(a.shape)"
   ]
  },
  {
   "cell_type": "code",
   "execution_count": 11,
   "metadata": {},
   "outputs": [
    {
     "name": "stdout",
     "output_type": "stream",
     "text": [
      "[[1 1 1 1]\n",
      " [1 1 1 1]\n",
      " [1 1 1 1]\n",
      " [1 1 1 1]\n",
      " [1 1 1 1]]\n"
     ]
    }
   ],
   "source": [
    "# create a numpy array of ones of shape (5,4)\n",
    "a = np.ones((5,4), dtype = 'int32')\n",
    "print(a)"
   ]
  },
  {
   "cell_type": "code",
   "execution_count": 61,
   "metadata": {
    "scrolled": true
   },
   "outputs": [
    {
     "name": "stdout",
     "output_type": "stream",
     "text": [
      "[ 1  2  3  4  5  6  7  8  9 10 11 12 13 14 15 16 17 18 19 20]\n",
      "\n",
      "[[ 1  2  3  4  5]\n",
      " [ 6  7  8  9 10]\n",
      " [11 12 13 14 15]\n",
      " [16 17 18 19 20]]\n",
      "\n",
      "[[ 10  20  30  40  50]\n",
      " [ 60  70  80  90 100]\n",
      " [110 120 130 140 150]\n",
      " [160 170 180 190 200]]\n",
      "\n",
      "[ 1  3  5  7  9 11 13 15 17 19]\n",
      "\n",
      "[  1  -2   3  -4   5  -6   7  -8   9 -10  11 -12  13 -14  15 -16  17 -18\n",
      "  19 -20]\n",
      "\n"
     ]
    }
   ],
   "source": [
    "# create a matrix of shape 4,5 with numbers from 1-20\n",
    "a = np.arange(1,21)\n",
    "print(a)\n",
    "print()\n",
    "r = a.reshape(4,5)\n",
    "print(r)\n",
    "print()\n",
    "\n",
    "# multiply all elements of above array by 10\n",
    "print(r*10)\n",
    "print()\n",
    "\n",
    "# print odd elements from array\n",
    "print(a[a%2 != 0])\n",
    "print()\n",
    "\n",
    "# replace all even elements by their negative\n",
    "a[a%2 == 0] *= -1\n",
    "print(a)\n",
    "print()"
   ]
  },
  {
   "cell_type": "code",
   "execution_count": 38,
   "metadata": {
    "scrolled": true
   },
   "outputs": [
    {
     "name": "stdout",
     "output_type": "stream",
     "text": [
      "[ 1  2  3  4  5  6  7  8  9 10 11 12 13 14 15 16]\n",
      "\n",
      "[[ 1  2  3  4]\n",
      " [ 5  6  7  8]\n",
      " [ 9 10 11 12]\n",
      " [13 14 15 16]]\n",
      "\n",
      "[[ 1  5  9 13]\n",
      " [ 2  6 10 14]\n",
      " [ 3  7 11 15]\n",
      " [ 4  8 12 16]]\n",
      "[[ 2  7 12 17]\n",
      " [ 7 12 17 22]\n",
      " [12 17 22 27]\n",
      " [17 22 27 32]]\n",
      "\n",
      "[[ True  True  True  True]\n",
      " [ True  True  True  True]\n",
      " [ True  True  True  True]\n",
      " [ True  True  True  True]]\n",
      "\n",
      "[[ 0 -3 -6 -9]\n",
      " [ 3  0 -3 -6]\n",
      " [ 6  3  0 -3]\n",
      " [ 9  6  3  0]]\n",
      "\n",
      "[[ 0  3  6  9]\n",
      " [-3  0  3  6]\n",
      " [-6 -3  0  3]\n",
      " [-9 -6 -3  0]]\n",
      "\n",
      "[[ True False False False]\n",
      " [False  True False False]\n",
      " [False False  True False]\n",
      " [False False False  True]]\n",
      "\n",
      "[[ True  True  True  True]\n",
      " [ True  True  True  True]\n",
      " [ True  True  True  True]\n",
      " [ True  True  True  True]]\n"
     ]
    }
   ],
   "source": [
    "# create a linearly spaced matrix M1 of size 4x4 having values in range 1-16\n",
    "a = np.linspace(1,16,16, dtype='int8')\n",
    "print(a)\n",
    "print()\n",
    "M1 = a.reshape(4,4)\n",
    "print(r)\n",
    "print()\n",
    "\n",
    "# create a transpose of above matrix call it M2\n",
    "M2 = M1.T\n",
    "print(M2)\n",
    "\n",
    "# find sum of above matrix M3 = (M1 + M2)\n",
    "M3 = M1 + M2\n",
    "print(M3)\n",
    "print()\n",
    "\n",
    "# Find Transpose of M3, Call it MT1. Check if M3 == MT1\n",
    "MT1 = M3.T\n",
    "print(M3 == MT1)\n",
    "print()\n",
    "\n",
    "# find diffrence of M4 = (M1 - M2)\n",
    "M4 = M1 - M2\n",
    "print(M4)\n",
    "print()\n",
    "\n",
    "# Find Transpose of M4, Call it MT2. Check if M4 == MT2. Also check if M4 == -MT2\n",
    "MT2 = M4.T\n",
    "print(MT2)\n",
    "print()\n",
    "print(M4 == MT2)\n",
    "print()\n",
    "print(M4 == -MT2)"
   ]
  },
  {
   "cell_type": "code",
   "execution_count": 63,
   "metadata": {
    "scrolled": true
   },
   "outputs": [
    {
     "name": "stdout",
     "output_type": "stream",
     "text": [
      "[[39 23 39 13]\n",
      " [18 30 31 19]\n",
      " [38 28 35 18]]\n",
      "\n",
      "[18 23 31 13]\n",
      "\n",
      "[39 30 39 19]\n",
      "\n",
      "[ 95  81 105  50]\n",
      "\n",
      "[[ 39  23  39  95]\n",
      " [ 18  30  31  81]\n",
      " [ 38  28  35 105]]\n"
     ]
    }
   ],
   "source": [
    "# create a matrix (3x4) R1 of random numbers between 10-40\n",
    "R1 = np.random.randint(10,40,12).reshape(3,4)\n",
    "print(R1)\n",
    "print()\n",
    "\n",
    "# find min and max column wise\n",
    "print(R1.min(axis = 0))\n",
    "print()\n",
    "print(R1.max(axis = 0))\n",
    "print()\n",
    "\n",
    "# replace the last column with sum of all the columns\n",
    "b = R1.sum(axis = 0)\n",
    "print(s)\n",
    "print()\n",
    "R1[:, 3] = b[:3]\n",
    "print(R1)"
   ]
  },
  {
   "cell_type": "code",
   "execution_count": 70,
   "metadata": {},
   "outputs": [
    {
     "name": "stdout",
     "output_type": "stream",
     "text": [
      "[[19. 12. 10. 13.]\n",
      " [28. 25. 16. 31.]\n",
      " [11. 11. 19. 25.]]\n",
      "\n",
      "[[19. nan nan 13.]\n",
      " [nan 25. nan 31.]\n",
      " [11. 11. 19. 25.]]\n",
      "\n",
      "4\n"
     ]
    }
   ],
   "source": [
    "# create a matrix (3x4) R1 of random numbers between 10-40\n",
    "R1 = np.random.randint(10,40,12).reshape(3,4).astype('float64')\n",
    "print(R1)\n",
    "print()\n",
    "\n",
    "# replace all even elements with nan in R1\n",
    "R1[R1%2 == 0] = np.nan\n",
    "print(R1)\n",
    "print()\n",
    "\n",
    "# count number of nan in R1\n",
    "print(np.isnan(R1).sum())"
   ]
  },
  {
   "cell_type": "code",
   "execution_count": 56,
   "metadata": {},
   "outputs": [
    {
     "name": "stdout",
     "output_type": "stream",
     "text": [
      "[[1 2 3]\n",
      " [4 5 6]\n",
      " [7 8 9]]\n",
      "\n",
      "[[11 12 13]\n",
      " [14 15 16]\n",
      " [17 18 19]]\n",
      "\n",
      "[ 1  2  3  4  5  6  7  8  9 11 12 13 14 15 16 17 18 19]\n",
      "\n",
      "[[ 1  2  3]\n",
      " [ 4  5  6]\n",
      " [ 7  8  9]\n",
      " [11 12 13]\n",
      " [14 15 16]\n",
      " [17 18 19]]\n",
      "\n",
      "[[ 1  2  3 11 12 13]\n",
      " [ 4  5  6 14 15 16]\n",
      " [ 7  8  9 17 18 19]]\n"
     ]
    }
   ],
   "source": [
    "# check output of this code\n",
    "a1 = np.arange(1,10).reshape(3,3)\n",
    "print(a1)\n",
    "print()\n",
    "a2 = np.arange(11,20).reshape(3,3)\n",
    "print(a2)\n",
    "print()\n",
    "a3 = np.append(a1,a2)\n",
    "print(a3)\n",
    "print()\n",
    "a3 = np.append(a1,a2, axis = 0)\n",
    "print(a3)\n",
    "print()\n",
    "a3 = np.append(a1,a2, axis = 1)\n",
    "print(a3)"
   ]
  }
 ],
 "metadata": {
  "kernelspec": {
   "display_name": "Python 3",
   "language": "python",
   "name": "python3"
  },
  "language_info": {
   "codemirror_mode": {
    "name": "ipython",
    "version": 3
   },
   "file_extension": ".py",
   "mimetype": "text/x-python",
   "name": "python",
   "nbconvert_exporter": "python",
   "pygments_lexer": "ipython3",
   "version": "3.7.4"
  }
 },
 "nbformat": 4,
 "nbformat_minor": 2
}
