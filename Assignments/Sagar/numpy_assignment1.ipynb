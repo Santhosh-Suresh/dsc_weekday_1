{
 "cells": [
  {
   "cell_type": "code",
   "execution_count": 43,
   "metadata": {},
   "outputs": [
    {
     "name": "stdout",
     "output_type": "stream",
     "text": [
      "[0. 0. 0. 0. 0.] <class 'numpy.ndarray'> 8 (5,)\n"
     ]
    }
   ],
   "source": [
    "# NUMPY\n",
    "# create a numpy array of 5 zeros.\n",
    "# check datatype, itemsize and shape of above\n",
    "# create a numpy array of ones of shape (5,4)\n",
    "# create a matrix of shape 4,5 with numbers from 1-20\n",
    "# multiply all elements of above array by 10\n",
    "# print odd elements from array\n",
    "# replace all even elements by their negative\n",
    "# create a linearly spaced matrix M1 of size 4x4 having values in range 1-16\n",
    "# create a transpose of above matrix call it M2\n",
    "# find sum of above matrix M3 = (M1 + M2)\n",
    "# Find Transpose of M3, Call it MT1. Check if M3 == MT1\n",
    "# find diffrence of M4 = (M1 - M2)\n",
    "# Find Transpose of M4, Call it MT2. Check if M4 == MT2. Also check if M4 == -MT2\n",
    "# create a matrix (3x4) R1 of random numbers between 10-40\n",
    "# find min and max column wise\n",
    "# replace the last column with sum of all the columns\n",
    "# create a matrix (3x4) R1 of random numbers between 10-40\n",
    "# replace all even elements with nan in R1\n",
    "# count number of nan in R1\n",
    "# check output of this code\n",
    "# a1 = np.arange(1,10).reshape(3,3)\n",
    "# a2 = np.arange(11,20).reshape(3,3)\n",
    "# a3 = np.append(a1,a2)\n",
    "# print(a3)\n",
    "# a3 = np.append(a1,a2, axis = 0)\n",
    "# print(a3)\n",
    "# a3 = np.append(a1,a2, axis = 1)\n",
    "# print(a3)\n",
    "\n",
    "import numpy as np\n",
    "a = np.zeros(5)\n",
    "print(a, type(a), a.itemsize, a.shape)\n"
   ]
  },
  {
   "cell_type": "code",
   "execution_count": 46,
   "metadata": {},
   "outputs": [
    {
     "name": "stdout",
     "output_type": "stream",
     "text": [
      "[[1. 1. 1. 1.]\n",
      " [1. 1. 1. 1.]\n",
      " [1. 1. 1. 1.]\n",
      " [1. 1. 1. 1.]\n",
      " [1. 1. 1. 1.]]\n"
     ]
    }
   ],
   "source": [
    "# create a numpy array of ones of shape (5,4)\n",
    "import numpy as np\n",
    "a = np.ones((5,4))\n",
    "print(a)"
   ]
  },
  {
   "cell_type": "code",
   "execution_count": 53,
   "metadata": {},
   "outputs": [
    {
     "name": "stdout",
     "output_type": "stream",
     "text": [
      "[[ 1  2  3  4  5]\n",
      " [ 6  7  8  9 10]\n",
      " [11 12 13 14 15]\n",
      " [16 17 18 19 20]]\n",
      "\n",
      "[[ 10  20  30  40  50]\n",
      " [ 60  70  80  90 100]\n",
      " [110 120 130 140 150]\n",
      " [160 170 180 190 200]]\n",
      "\n",
      "[ 1  3  5  7  9 11 13 15 17 19]\n",
      "\n",
      "[ -2  -4  -6  -8 -10 -12 -14 -16 -18 -20]\n"
     ]
    }
   ],
   "source": [
    "# create a matrix of shape 4,5 with numbers from 1-20\n",
    "a=np.arange(1,21).reshape(4,5)\n",
    "print(a)\n",
    "# multiply all elements of above array by 10\n",
    "b=a*10\n",
    "print()\n",
    "print(b)\n",
    "# print odd elements from array\n",
    "c = a % 2 != 0\n",
    "print()\n",
    "print(a[c])\n",
    "# replace all even elements by their negative\n",
    "c = a % 2 == 0\n",
    "print()\n",
    "print(a[c]*-1)"
   ]
  },
  {
   "cell_type": "code",
   "execution_count": 63,
   "metadata": {},
   "outputs": [
    {
     "name": "stdout",
     "output_type": "stream",
     "text": [
      "[[ 1  2  3  4]\n",
      " [ 5  6  7  8]\n",
      " [ 9 10 11 12]\n",
      " [13 14 15 16]]\n",
      "\n",
      "[[ 1  5  9 13]\n",
      " [ 2  6 10 14]\n",
      " [ 3  7 11 15]\n",
      " [ 4  8 12 16]]\n",
      "\n",
      "[[ 2  7 12 17]\n",
      " [ 7 12 17 22]\n",
      " [12 17 22 27]\n",
      " [17 22 27 32]]\n",
      "\n",
      "[[ 2  7 12 17]\n",
      " [ 7 12 17 22]\n",
      " [12 17 22 27]\n",
      " [17 22 27 32]]\n",
      "\n",
      "[[ True  True  True  True]\n",
      " [ True  True  True  True]\n",
      " [ True  True  True  True]\n",
      " [ True  True  True  True]]\n",
      "\n",
      "[[ 0 -3 -6 -9]\n",
      " [ 3  0 -3 -6]\n",
      " [ 6  3  0 -3]\n",
      " [ 9  6  3  0]]\n",
      "mt2\n",
      "[[ 0  3  6  9]\n",
      " [-3  0  3  6]\n",
      " [-6 -3  0  3]\n",
      " [-9 -6 -3  0]]\n",
      "M4 == MT2\n",
      "[[ True False False False]\n",
      " [False  True False False]\n",
      " [False False  True False]\n",
      " [False False False  True]]\n",
      "M4 == -MT2\n",
      "[[ True  True  True  True]\n",
      " [ True  True  True  True]\n",
      " [ True  True  True  True]\n",
      " [ True  True  True  True]]\n"
     ]
    }
   ],
   "source": [
    "# create a linearly spaced matrix M1 of size 4x4 having values in range 1-16\n",
    "m1=np.arange(1,17).reshape(4,4)\n",
    "print(m1)\n",
    "# create a transpose of above matrix call it M2\n",
    "m2=m1.T\n",
    "print()\n",
    "print(m2)\n",
    "# find sum of above matrix M3 = (M1 + M2)\n",
    "m3 = m1 + m2\n",
    "print()\n",
    "print(m3)\n",
    "# Find Transpose of M3, Call it MT1. Check if M3 == MT1\n",
    "mt1 = m3.T\n",
    "print()\n",
    "print(mt1)\n",
    "print()\n",
    "print(m3==mt1)\n",
    "# find diffrence of M4 = (M1 - M2)\n",
    "m4 = m1 - m2\n",
    "print()\n",
    "print(m4)\n",
    "# Find Transpose of M4, Call it MT2. Check if M4 == MT2. Also check if M4 == -MT2\n",
    "mt2=m4.T\n",
    "print(\"mt2\")\n",
    "print(mt2)\n",
    "print(\"M4 == MT2\")\n",
    "print( m4 == mt2)\n",
    "print(\"M4 == -MT2\")\n",
    "print(m4 == -mt2)"
   ]
  },
  {
   "cell_type": "code",
   "execution_count": 79,
   "metadata": {},
   "outputs": [
    {
     "name": "stdout",
     "output_type": "stream",
     "text": [
      "[[19 35 20 18]\n",
      " [16 29 30 37]\n",
      " [17 11 23 14]]\n",
      "\n",
      "[16 11 20 14] [19 35 30 37]\n",
      "\n",
      "[18 37 14]\n",
      "\n",
      "[[ 19  35  20  92]\n",
      " [ 16  29  30 112]\n",
      " [ 17  11  23  65]]\n"
     ]
    }
   ],
   "source": [
    "# create a matrix (3x4) R1 of random numbers between 10-40\n",
    "r1 = np.random.randint(10,40,12).reshape(3,4)\n",
    "print(r1)\n",
    "# find min and max column wise\n",
    "print()\n",
    "print(np.min(r1, axis=0), np.max(r1, axis=0))\n",
    "# replace the last column with sum of all the columns\n",
    "print()\n",
    "print(r1[:,3])\n",
    "r1[:,3] = r1.sum(axis=1)\n",
    "print()\n",
    "print(r1)"
   ]
  },
  {
   "cell_type": "code",
   "execution_count": 110,
   "metadata": {},
   "outputs": [
    {
     "name": "stdout",
     "output_type": "stream",
     "text": [
      "[[33. 12. 31. 27.]\n",
      " [19. 32. 13. 17.]\n",
      " [39. 12. 13. 19.]]\n",
      "[[False  True False False]\n",
      " [False  True False False]\n",
      " [False  True False False]]\n",
      "\n",
      "[[33. nan 31. 27.]\n",
      " [19. nan 13. 17.]\n",
      " [39. nan 13. 19.]]\n",
      "\n",
      "3\n",
      "\n",
      "9\n"
     ]
    }
   ],
   "source": [
    "# create a matrix (3x4) R1 of random numbers between 10-40\n",
    "\n",
    "r1 = np.random.uniform(10,40, size=(3,4))\n",
    "r1=np.round(r1,0)\n",
    "print(r1)\n",
    "# replace all even elements with nan in R1\n",
    "i = r1 % 2 == 0 \n",
    "print(i)\n",
    "r1[i]=np.nan\n",
    "# count number of nan in R1\n",
    "print()\n",
    "print(r1)\n",
    "print()\n",
    "print(np.count_nonzero(np.isnan(r1)))\n",
    "print()\n",
    "print(np.count_nonzero(~np.isnan(r1)))\n"
   ]
  },
  {
   "cell_type": "code",
   "execution_count": 113,
   "metadata": {},
   "outputs": [
    {
     "name": "stdout",
     "output_type": "stream",
     "text": [
      "[[1 2 3]\n",
      " [4 5 6]\n",
      " [7 8 9]]\n",
      "[[11 12 13]\n",
      " [14 15 16]\n",
      " [17 18 19]]\n",
      "\n",
      "[ 1  2  3  4  5  6  7  8  9 11 12 13 14 15 16 17 18 19]\n",
      "\n",
      "[[ 1  2  3]\n",
      " [ 4  5  6]\n",
      " [ 7  8  9]\n",
      " [11 12 13]\n",
      " [14 15 16]\n",
      " [17 18 19]]\n",
      "\n",
      "[[ 1  2  3 11 12 13]\n",
      " [ 4  5  6 14 15 16]\n",
      " [ 7  8  9 17 18 19]]\n"
     ]
    }
   ],
   "source": [
    "# check output of this code\n",
    "a1 = np.arange(1,10).reshape(3,3)\n",
    "print(a1)\n",
    "a2 = np.arange(11,20).reshape(3,3)\n",
    "print(a2)\n",
    "a3 = np.append(a1,a2)\n",
    "print()\n",
    "print(a3)\n",
    "a3 = np.append(a1,a2, axis = 0)\n",
    "print()\n",
    "print(a3)\n",
    "a3 = np.append(a1,a2, axis = 1)\n",
    "print()\n",
    "print(a3)"
   ]
  },
  {
   "cell_type": "code",
   "execution_count": null,
   "metadata": {},
   "outputs": [],
   "source": []
  }
 ],
 "metadata": {
  "kernelspec": {
   "display_name": "Python 3",
   "language": "python",
   "name": "python3"
  },
  "language_info": {
   "codemirror_mode": {
    "name": "ipython",
    "version": 3
   },
   "file_extension": ".py",
   "mimetype": "text/x-python",
   "name": "python",
   "nbconvert_exporter": "python",
   "pygments_lexer": "ipython3",
   "version": "3.7.6"
  }
 },
 "nbformat": 4,
 "nbformat_minor": 4
}
