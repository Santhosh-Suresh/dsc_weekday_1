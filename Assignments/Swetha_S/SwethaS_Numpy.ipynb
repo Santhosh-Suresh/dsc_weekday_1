{
 "cells": [
  {
   "cell_type": "code",
   "execution_count": 5,
   "metadata": {},
   "outputs": [],
   "source": [
    "import numpy as np"
   ]
  },
  {
   "cell_type": "code",
   "execution_count": 33,
   "metadata": {},
   "outputs": [
    {
     "name": "stdout",
     "output_type": "stream",
     "text": [
      "Numpy Array is:  [0 0 0 0 0]\n",
      "\n",
      "Data Type:  int32\n",
      "Item Size:  4\n",
      "Dimensions:  (5,)\n"
     ]
    }
   ],
   "source": [
    "# Q1. create a numpy array of 5 zeros.\n",
    "#     check datatype, itemsize and shape of above\n",
    "\n",
    "import numpy as np\n",
    "\n",
    "a = np.array([0,0,0,0,0]) \n",
    "\n",
    "print('Numpy Array is: ',a)\n",
    "print()\n",
    "print('Data Type: ',a.dtype)\n",
    "print('Item Size: ',a.itemsize)\n",
    "print('Dimensions: ',a.shape)\n"
   ]
  },
  {
   "cell_type": "code",
   "execution_count": 31,
   "metadata": {},
   "outputs": [
    {
     "name": "stdout",
     "output_type": "stream",
     "text": [
      "[[1 1 1 1]\n",
      " [1 1 1 1]\n",
      " [1 1 1 1]\n",
      " [1 1 1 1]\n",
      " [1 1 1 1]]\n",
      "\n",
      "Dimensions of Numpy array is:  (5, 4)\n"
     ]
    }
   ],
   "source": [
    "# Q2. create a numpy array of ones of shape (5,4).\n",
    "\n",
    "a = np.array([[1,1,1,1,1],[1,1,1,1,1],[1,1,1,1,1],[1,1,1,1,1]])\n",
    "a.shape = (5,4)\n",
    "print(a)\n",
    "print()\n",
    "print('Dimensions of Numpy array is: ',a.shape)\n"
   ]
  },
  {
   "cell_type": "code",
   "execution_count": 49,
   "metadata": {},
   "outputs": [
    {
     "name": "stdout",
     "output_type": "stream",
     "text": [
      "Elements of Matrix are:  [ 1  2  3  4  5  6  7  8  9 10 11 12 13 14 15 16 17 18 19 20]\n",
      "\n",
      "[[ 1  2  3  4  5]\n",
      " [ 6  7  8  9 10]\n",
      " [11 12 13 14 15]\n",
      " [16 17 18 19 20]]\n",
      "\n",
      "Dimensions of above Matrix is:  (4, 5)\n"
     ]
    }
   ],
   "source": [
    "# Q3. create a matrix of shape 4,5 with numbers from 1-20\n",
    "\n",
    "b = np.arange(1,21)\n",
    "print('Elements of Matrix are: ',b)\n",
    "print()\n",
    "\n",
    "b.shape = (4,5)\n",
    "print(b)\n",
    "print()\n",
    "print('Dimensions of above Matrix is: ',b.shape)\n"
   ]
  },
  {
   "cell_type": "code",
   "execution_count": 50,
   "metadata": {},
   "outputs": [
    {
     "name": "stdout",
     "output_type": "stream",
     "text": [
      "Matrix after multiplying with 10:\n",
      "[[ 10  20  30  40  50]\n",
      " [ 60  70  80  90 100]\n",
      " [110 120 130 140 150]\n",
      " [160 170 180 190 200]]\n"
     ]
    }
   ],
   "source": [
    "# Q4. multiply all elements of above array by 10\n",
    "\n",
    "b = b*10\n",
    "print('Matrix after multiplying with 10:')\n",
    "print(b)\n"
   ]
  },
  {
   "cell_type": "code",
   "execution_count": 51,
   "metadata": {},
   "outputs": [
    {
     "name": "stdout",
     "output_type": "stream",
     "text": [
      "Odd Elements are:  [ 1  3  5  7  9 11 13 15 17 19]\n"
     ]
    }
   ],
   "source": [
    "# Q5. print odd elements from array\n",
    "\n",
    "b = np.arange(1,21,2)\n",
    "print('Odd Elements are: ',b)\n"
   ]
  },
  {
   "cell_type": "code",
   "execution_count": 124,
   "metadata": {},
   "outputs": [
    {
     "name": "stdout",
     "output_type": "stream",
     "text": [
      "Input:  [ 1  2  3  4  5  6  7  8  9 10 11 12 13 14 15 16 17 18 19 20]\n",
      "\n",
      "After replacing Even numbers to their negatives: \n",
      "[  1  -2   3  -4   5  -6   7  -8   9 -10  11 -12  13 -14  15 -16  17 -18\n",
      "  19 -20]\n"
     ]
    }
   ],
   "source": [
    "# Q6. replace all even elements by their negative\n",
    "\n",
    "b = np.arange(1,21)\n",
    "print('Input: ',b)\n",
    "print()\n",
    "print('After replacing Even numbers to their negatives: ')\n",
    "print(np.where(b%2==0,-1*b,b))\n",
    "\n"
   ]
  },
  {
   "cell_type": "code",
   "execution_count": 130,
   "metadata": {},
   "outputs": [
    {
     "name": "stdout",
     "output_type": "stream",
     "text": [
      "Linearly spaced matrix M1 of size 4x4 is: \n",
      "\n",
      "[[ 1.  2.  3.  4.]\n",
      " [ 5.  6.  7.  8.]\n",
      " [ 9. 10. 11. 12.]\n",
      " [13. 14. 15. 16.]]\n"
     ]
    }
   ],
   "source": [
    "# Q7. create a linearly spaced matrix M1 of size 4x4 having values in range 1-16\n",
    "\n",
    "c = np.linspace(1,16,16).reshape(4,4)\n",
    "print('Linearly spaced matrix M1 of size 4x4 is: ')\n",
    "print()\n",
    "print(c)\n"
   ]
  },
  {
   "cell_type": "code",
   "execution_count": 88,
   "metadata": {},
   "outputs": [
    {
     "name": "stdout",
     "output_type": "stream",
     "text": [
      "The original Matrix M1 is:\n",
      "[[ 1.  2.  3.  4.]\n",
      " [ 5.  6.  7.  8.]\n",
      " [ 9. 10. 11. 12.]\n",
      " [13. 14. 15. 16.]]\n",
      "\n",
      "Transposed Matrix M2 is:\n",
      "[[ 1.  5.  9. 13.]\n",
      " [ 2.  6. 10. 14.]\n",
      " [ 3.  7. 11. 15.]\n",
      " [ 4.  8. 12. 16.]]\n"
     ]
    }
   ],
   "source": [
    "# Q8. create a transpose of above matrix call it M2\n",
    "\n",
    "\n",
    "print('The original Matrix M1 is:')\n",
    "print(c)                           # c = M1 and d = M2\n",
    "print()\n",
    "d = np.transpose(c)\n",
    "print('Transposed Matrix M2 is:') \n",
    "print(d) \n"
   ]
  },
  {
   "cell_type": "code",
   "execution_count": 89,
   "metadata": {},
   "outputs": [
    {
     "name": "stdout",
     "output_type": "stream",
     "text": [
      "M1 matrix is: \n",
      "[[ 1.  2.  3.  4.]\n",
      " [ 5.  6.  7.  8.]\n",
      " [ 9. 10. 11. 12.]\n",
      " [13. 14. 15. 16.]]\n",
      "\n",
      "M2 matrix is: \n",
      "[[ 1.  5.  9. 13.]\n",
      " [ 2.  6. 10. 14.]\n",
      " [ 3.  7. 11. 15.]\n",
      " [ 4.  8. 12. 16.]]\n",
      "\n",
      "Sum of 2 matrices M3 is: \n",
      "[[ 2.  7. 12. 17.]\n",
      " [ 7. 12. 17. 22.]\n",
      " [12. 17. 22. 27.]\n",
      " [17. 22. 27. 32.]]\n"
     ]
    }
   ],
   "source": [
    "# Q9. find sum of above matrix M3 = (M1 + M2)\n",
    "\n",
    "print('M1 matrix is: ')\n",
    "print(c)\n",
    "print()\n",
    "print('M2 matrix is: ')\n",
    "print(d)\n",
    "print()\n",
    "\n",
    "print('Sum of 2 matrices M3 is: ')\n",
    "e = np.add(c,d)\n",
    "print(e)\n"
   ]
  },
  {
   "cell_type": "code",
   "execution_count": 90,
   "metadata": {},
   "outputs": [
    {
     "name": "stdout",
     "output_type": "stream",
     "text": [
      "M3 matrix is: \n",
      "[[ 2.  7. 12. 17.]\n",
      " [ 7. 12. 17. 22.]\n",
      " [12. 17. 22. 27.]\n",
      " [17. 22. 27. 32.]]\n",
      "\n",
      "Transposed Matrix MT1 is:\n",
      "[[ 2.  7. 12. 17.]\n",
      " [ 7. 12. 17. 22.]\n",
      " [12. 17. 22. 27.]\n",
      " [17. 22. 27. 32.]]\n"
     ]
    }
   ],
   "source": [
    "# Q10. Find Transpose of M3, Call it MT1. Check if M3 == MT1\n",
    "\n",
    "print('M3 matrix is: ')\n",
    "print(e)\n",
    "print()\n",
    "\n",
    "f = np.transpose(e)\n",
    "print('Transposed Matrix MT1 is:') \n",
    "print(f) \n",
    "\n",
    "# Observation: M3 == MT1 as row & column wise we have same elements.\n"
   ]
  },
  {
   "cell_type": "code",
   "execution_count": 91,
   "metadata": {},
   "outputs": [
    {
     "name": "stdout",
     "output_type": "stream",
     "text": [
      "M1 matrix is: \n",
      "[[ 1.  2.  3.  4.]\n",
      " [ 5.  6.  7.  8.]\n",
      " [ 9. 10. 11. 12.]\n",
      " [13. 14. 15. 16.]]\n",
      "\n",
      "M2 matrix is: \n",
      "[[ 1.  5.  9. 13.]\n",
      " [ 2.  6. 10. 14.]\n",
      " [ 3.  7. 11. 15.]\n",
      " [ 4.  8. 12. 16.]]\n",
      "\n",
      "Difference of 2 matrices M4 is: \n",
      "[[ 0. -3. -6. -9.]\n",
      " [ 3.  0. -3. -6.]\n",
      " [ 6.  3.  0. -3.]\n",
      " [ 9.  6.  3.  0.]]\n"
     ]
    }
   ],
   "source": [
    "# Q11. find diffrence of M4 = (M1 - M2)\n",
    "\n",
    "print('M1 matrix is: ')\n",
    "print(c)\n",
    "print()\n",
    "print('M2 matrix is: ')\n",
    "print(d)\n",
    "print()\n",
    "\n",
    "print('Difference of 2 matrices M4 is: ')\n",
    "g = np.subtract(c,d)\n",
    "print(g)\n"
   ]
  },
  {
   "cell_type": "code",
   "execution_count": 104,
   "metadata": {},
   "outputs": [
    {
     "name": "stdout",
     "output_type": "stream",
     "text": [
      "M4 matrix is: \n",
      "[[ 0. -3. -6. -9.]\n",
      " [ 3.  0. -3. -6.]\n",
      " [ 6.  3.  0. -3.]\n",
      " [ 9.  6.  3.  0.]]\n",
      "\n",
      "Transposed Matrix MT2 is:\n",
      "[[ 0.  3.  6.  9.]\n",
      " [-3.  0.  3.  6.]\n",
      " [-6. -3.  0.  3.]\n",
      " [-9. -6. -3.  0.]]\n"
     ]
    }
   ],
   "source": [
    "# Q12. Find Transpose of M4, Call it MT2. Check if M4 == MT2. Also check if M4 == -MT2\n",
    "\n",
    "print('M4 matrix is: ')\n",
    "print(g)\n",
    "print()\n",
    "\n",
    "h = np.transpose(g)\n",
    "print('Transposed Matrix MT2 is:') \n",
    "print(h) \n",
    "\n",
    "# Observation: M4 == MT2 as row & column wise we have same elements.\n"
   ]
  },
  {
   "cell_type": "code",
   "execution_count": 134,
   "metadata": {},
   "outputs": [
    {
     "name": "stdout",
     "output_type": "stream",
     "text": [
      "(3x4) Matrix of random numbers between 10-40 is: \n",
      "\n",
      "[[14 25 30 28]\n",
      " [19 10 33 35]\n",
      " [30 20 12 16]]\n"
     ]
    }
   ],
   "source": [
    "# Q13. create a matrix (3x4) R1 of random numbers between 10-40\n",
    "\n",
    "R1 = np.random.randint(10,40,size=(3,4))\n",
    "print('(3x4) Matrix of random numbers between 10-40 is: ')\n",
    "print()\n",
    "print(R1)\n"
   ]
  },
  {
   "cell_type": "code",
   "execution_count": 131,
   "metadata": {},
   "outputs": [
    {
     "name": "stdout",
     "output_type": "stream",
     "text": [
      "Matrix is: \n",
      "[[ 1.  2.  3.  4.]\n",
      " [ 5.  6.  7.  8.]\n",
      " [ 9. 10. 11. 12.]\n",
      " [13. 14. 15. 16.]]\n",
      "\n",
      "    Column wise   \n",
      "    ============  \n",
      "Max Value:  [13. 14. 15. 16.]\n",
      "Min Value:  [1. 2. 3. 4.]\n"
     ]
    }
   ],
   "source": [
    "# Q14. find min and max column wise\n",
    "\n",
    "print('Matrix is: ')\n",
    "print(c)\n",
    "print()\n",
    "\n",
    "print('    Column wise   ')\n",
    "print('    ============  ')\n",
    "\n",
    "j = np.max(c, axis=0)\n",
    "print('Max Value: ',j)\n",
    "\n",
    "k = np.min(c, axis=0)\n",
    "print('Min Value: ',k)\n"
   ]
  },
  {
   "cell_type": "code",
   "execution_count": 132,
   "metadata": {},
   "outputs": [
    {
     "name": "stdout",
     "output_type": "stream",
     "text": [
      "Matrix is: \n",
      "[[ 1.  2.  3.  4.]\n",
      " [ 5.  6.  7.  8.]\n",
      " [ 9. 10. 11. 12.]\n",
      " [13. 14. 15. 16.]]\n",
      "\n",
      "Last Column is: \n",
      "[ 4.  8. 12. 16.]\n",
      "\n",
      "Sum of all elements in last column is: \n",
      "136.0\n",
      "\n",
      "After replacing the last column with sum of all the columns: \n",
      "[[  1.   2.   3. 136.]\n",
      " [  5.   6.   7. 136.]\n",
      " [  9.  10.  11. 136.]\n",
      " [ 13.  14.  15. 136.]]\n"
     ]
    }
   ],
   "source": [
    "# Q15. replace the last column with sum of all the columns\n",
    "\n",
    "print('Matrix is: ')\n",
    "print(c)\n",
    "print()\n",
    "\n",
    "print('Last Column is: ')\n",
    "print(c[:,-1])\n",
    "print()\n",
    "\n",
    "print('Sum of all elements in last column is: ')\n",
    "print(c.sum())\n",
    "print()\n",
    "\n",
    "print('After replacing the last column with sum of all the columns: ')\n",
    "c[:,3]=c.sum()\n",
    "print(c)\n"
   ]
  },
  {
   "cell_type": "code",
   "execution_count": 133,
   "metadata": {},
   "outputs": [
    {
     "name": "stdout",
     "output_type": "stream",
     "text": [
      "(3x4) Matrix of random numbers between 10-40 is: \n",
      "\n",
      "[[21 21 31 27]\n",
      " [16 30 30 13]\n",
      " [33 36 16 21]]\n"
     ]
    }
   ],
   "source": [
    "# Q16. create a matrix (3x4) R1 of random numbers between 10-40 \n",
    "# Repeated question #\n",
    "\n",
    "l = np.random.randint(10,40,size=(3,4))\n",
    "print('(3x4) Matrix of random numbers between 10-40 is: ')\n",
    "print()\n",
    "print(l)\n"
   ]
  },
  {
   "cell_type": "code",
   "execution_count": 136,
   "metadata": {},
   "outputs": [
    {
     "name": "stdout",
     "output_type": "stream",
     "text": [
      "R1 Matrix is: \n",
      "[[14 25 30 28]\n",
      " [19 10 33 35]\n",
      " [30 20 12 16]]\n",
      "\n",
      "Replacing all Even elements with nan in R1: \n",
      "[[nan 25. nan nan]\n",
      " [19. nan 33. 35.]\n",
      " [nan nan nan nan]]\n"
     ]
    }
   ],
   "source": [
    "# Q17. replace all even elements with nan in R1\n",
    "\n",
    "print('R1 Matrix is: ')\n",
    "print(R1)\n",
    "print()\n",
    "\n",
    "R2 = np.where(R1%2 == 0, np.nan, R1)\n",
    "print('Replacing all Even elements with nan in R1: ')\n",
    "print(R2)\n"
   ]
  },
  {
   "cell_type": "code",
   "execution_count": 137,
   "metadata": {},
   "outputs": [
    {
     "name": "stdout",
     "output_type": "stream",
     "text": [
      "R1 Matrix is: \n",
      "[[14 25 30 28]\n",
      " [19 10 33 35]\n",
      " [30 20 12 16]]\n",
      "\n",
      "Total number of nan in R1 is:  8\n"
     ]
    }
   ],
   "source": [
    "# Q18. count number of nan in R1\n",
    "\n",
    "print('R1 Matrix is: ')\n",
    "print(R1)\n",
    "print()\n",
    "\n",
    "m = np.sum(np.isnan(R2))\n",
    "print('Total number of nan in R1 is: ',m)\n"
   ]
  },
  {
   "cell_type": "code",
   "execution_count": 142,
   "metadata": {},
   "outputs": [
    {
     "name": "stdout",
     "output_type": "stream",
     "text": [
      "[ 1  2  3  4  5  6  7  8  9 11 12 13 14 15 16 17 18 19]\n",
      "[[ 1  2  3]\n",
      " [ 4  5  6]\n",
      " [ 7  8  9]\n",
      " [11 12 13]\n",
      " [14 15 16]\n",
      " [17 18 19]]\n",
      "[[ 1  2  3 11 12 13]\n",
      " [ 4  5  6 14 15 16]\n",
      " [ 7  8  9 17 18 19]]\n"
     ]
    }
   ],
   "source": [
    "# Q19. check output of this code\n",
    "a1 = np.arange(1,10).reshape(3,3)\n",
    "a2 = np.arange(11,20).reshape(3,3)\n",
    "\n",
    "# print(a1) - contains 1-9 in 3x3 \n",
    "# print(a2) - contains 11-19 in 3x3\n",
    "\n",
    "a3 = np.append(a1,a2)\n",
    "print(a3)\n",
    "\n",
    "# Observation: In a3 - Values are getting appended as [ 1  2  3  4  5  6  7  8  9 11 12 13 14 15 16 17 18 19]\n",
    "# ------------------------------------------------------------------------------------------------\n",
    "a3 = np.append(a1,a2, axis = 0)\n",
    "print(a3)\n",
    "\n",
    "# Observation: In a3 - Values are getting appended only column wise since axis = 0 is given\n",
    "# ------------------------------------------------------------------------------------------------\n",
    "a3 = np.append(a1,a2, axis = 1)\n",
    "print(a3)\n",
    "\n",
    "# Observation: In a3 - Values are getting appended only row wise since axis = 1 is given\n"
   ]
  },
  {
   "cell_type": "code",
   "execution_count": null,
   "metadata": {},
   "outputs": [],
   "source": []
  }
 ],
 "metadata": {
  "kernelspec": {
   "display_name": "Python 3",
   "language": "python",
   "name": "python3"
  },
  "language_info": {
   "codemirror_mode": {
    "name": "ipython",
    "version": 3
   },
   "file_extension": ".py",
   "mimetype": "text/x-python",
   "name": "python",
   "nbconvert_exporter": "python",
   "pygments_lexer": "ipython3",
   "version": "3.7.6"
  }
 },
 "nbformat": 4,
 "nbformat_minor": 4
}
