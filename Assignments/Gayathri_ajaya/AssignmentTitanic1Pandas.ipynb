{
 "cells": [
  {
   "cell_type": "markdown",
   "metadata": {},
   "source": [
    "|Variable|Definition|Key|\n",
    "|---|---|---|\n",
    "|survival|Survival|0 = No, 1 = Yes|\n",
    "|pclass|Ticket class|1 = 1st, 2 = 2nd, 3 = 3rd|\n",
    "|gender|gender ||\n",
    "|Age |Age in years| |\n",
    "|sibsp |number of siblings / spouses aboard|\t|\n",
    "|parch |number of parents / children aboard| |\n",
    "|ticket|Ticket number ||\n",
    "|fare | fare| \t|\n",
    "|cabin |Cabin number|\t|\n",
    "|embarked|Port of Embarkation|C = Cherbourg, Q = Queenstown, S = Southampton|\n",
    "|boat | Lifeboat||\n",
    "|body | Body Identification Number||\n",
    "|home.dest| Home/destination||"
   ]
  },
  {
   "cell_type": "markdown",
   "metadata": {},
   "source": []
  },
  {
   "cell_type": "markdown",
   "metadata": {},
   "source": [
    "- Read data and describe it\n",
    "- Find columns with missingdata\n",
    "- Print shape of dataset\n",
    "- drop columns with more than 25% missing data\n",
    "- drop columns having independent values(which do not affect the survival rate).\n",
    "\n",
    "\n",
    "- check data types of all columns\n",
    "- convert price to numeric\n",
    "- find columns still having missing/na values and also count of missing data\n",
    "- fill na with mean for fare and age column column.\n",
    "- drop na values for embarked column.\n",
    "- dump the dataframe to a csv file 'titanic_filtered.csv'.\n",
    "\n",
    "\n",
    "- for surviced column replace 0 with D and 1 with A\n",
    "- find the frequency of different values in survived column\n",
    "- group by gender and survived and see the counts in each category\n",
    "- find different pclass and no of people in each class\n",
    "\n",
    "- find top 5 people with highest values of age. Count no of male and females in the top 5\n",
    "- find max age male and female who survived\n",
    "- get average age by gender\n",
    "- get average age by people survived vs not-survived"
   ]
  },
  {
   "cell_type": "code",
   "execution_count": 145,
   "metadata": {},
   "outputs": [],
   "source": [
    "import pandas as pd\n",
    "import numpy as np"
   ]
  },
  {
   "cell_type": "code",
   "execution_count": 146,
   "metadata": {},
   "outputs": [
    {
     "name": "stdout",
     "output_type": "stream",
     "text": [
      "<bound method NDFrame.head of       Unnamed: 0  pclass  survived  \\\n",
      "0              0       1         1   \n",
      "1              1       1         1   \n",
      "2              2       1         0   \n",
      "3              3       1         0   \n",
      "4              4       1         0   \n",
      "...          ...     ...       ...   \n",
      "1304        1304       3         0   \n",
      "1305        1305       3         0   \n",
      "1306        1306       3         0   \n",
      "1307        1307       3         0   \n",
      "1308        1308       3         0   \n",
      "\n",
      "                                                 name  gender      age  sibsp  \\\n",
      "0                       Allen, Miss. Elisabeth Walton  female  29.0000      0   \n",
      "1                      Allison, Master. Hudson Trevor    male   0.9167      1   \n",
      "2                        Allison, Miss. Helen Loraine  female   2.0000      1   \n",
      "3                Allison, Mr. Hudson Joshua Creighton    male  30.0000      1   \n",
      "4     Allison, Mrs. Hudson J C (Bessie Waldo Daniels)  female  25.0000      1   \n",
      "...                                               ...     ...      ...    ...   \n",
      "1304                             Zabour, Miss. Hileni  female  14.5000      1   \n",
      "1305                            Zabour, Miss. Thamine  female      NaN      1   \n",
      "1306                        Zakarian, Mr. Mapriededer    male  26.5000      0   \n",
      "1307                              Zakarian, Mr. Ortin    male  27.0000      0   \n",
      "1308                               Zimmerman, Mr. Leo    male  29.0000      0   \n",
      "\n",
      "      parch  ticket      fare    cabin embarked boat   body  \\\n",
      "0         0   24160  $211.34        B5        S    2    NaN   \n",
      "1         2  113781  $151.55   C22 C26        S   11    NaN   \n",
      "2         2  113781  $151.55   C22 C26        S  NaN    NaN   \n",
      "3         2  113781  $151.55   C22 C26        S  NaN  135.0   \n",
      "4         2  113781  $151.55   C22 C26        S  NaN    NaN   \n",
      "...     ...     ...       ...      ...      ...  ...    ...   \n",
      "1304      0    2665   $14.45       NaN        C  NaN  328.0   \n",
      "1305      0    2665   $14.45       NaN        C  NaN    NaN   \n",
      "1306      0    2656    $7.23       NaN        C  NaN  304.0   \n",
      "1307      0    2670    $7.23       NaN        C  NaN    NaN   \n",
      "1308      0  315082    $7.88       NaN        S  NaN    NaN   \n",
      "\n",
      "                            home.dest  \n",
      "0                        St Louis, MO  \n",
      "1     Montreal, PQ / Chesterville, ON  \n",
      "2     Montreal, PQ / Chesterville, ON  \n",
      "3     Montreal, PQ / Chesterville, ON  \n",
      "4     Montreal, PQ / Chesterville, ON  \n",
      "...                               ...  \n",
      "1304                              NaN  \n",
      "1305                              NaN  \n",
      "1306                              NaN  \n",
      "1307                              NaN  \n",
      "1308                              NaN  \n",
      "\n",
      "[1309 rows x 15 columns]>\n"
     ]
    }
   ],
   "source": [
    "df=pd.read_csv('../titanic_dataset.csv')        #back 2 folder\n",
    "print(df.head)"
   ]
  },
  {
   "cell_type": "code",
   "execution_count": 147,
   "metadata": {},
   "outputs": [
    {
     "name": "stdout",
     "output_type": "stream",
     "text": [
      "         Unnamed: 0       pclass     survived              name gender  \\\n",
      "count   1309.000000  1309.000000  1309.000000              1309   1309   \n",
      "unique          NaN          NaN          NaN              1307      2   \n",
      "top             NaN          NaN          NaN  Kelly, Mr. James   male   \n",
      "freq            NaN          NaN          NaN                 2    843   \n",
      "mean     654.000000     2.294882     0.381971               NaN    NaN   \n",
      "std      378.020061     0.837836     0.486055               NaN    NaN   \n",
      "min        0.000000     1.000000     0.000000               NaN    NaN   \n",
      "25%      327.000000     2.000000     0.000000               NaN    NaN   \n",
      "50%      654.000000     3.000000     0.000000               NaN    NaN   \n",
      "75%      981.000000     3.000000     1.000000               NaN    NaN   \n",
      "max     1308.000000     3.000000     1.000000               NaN    NaN   \n",
      "\n",
      "                age        sibsp        parch    ticket    fare        cabin  \\\n",
      "count   1046.000000  1309.000000  1309.000000      1309    1308          295   \n",
      "unique          NaN          NaN          NaN       929     263          186   \n",
      "top             NaN          NaN          NaN  CA. 2343  $8.05   C23 C25 C27   \n",
      "freq            NaN          NaN          NaN        11      60            6   \n",
      "mean      29.881135     0.498854     0.385027       NaN     NaN          NaN   \n",
      "std       14.413500     1.041658     0.865560       NaN     NaN          NaN   \n",
      "min        0.166700     0.000000     0.000000       NaN     NaN          NaN   \n",
      "25%       21.000000     0.000000     0.000000       NaN     NaN          NaN   \n",
      "50%       28.000000     0.000000     0.000000       NaN     NaN          NaN   \n",
      "75%       39.000000     1.000000     0.000000       NaN     NaN          NaN   \n",
      "max       80.000000     8.000000     9.000000       NaN     NaN          NaN   \n",
      "\n",
      "       embarked boat        body     home.dest  \n",
      "count      1307  486  121.000000           745  \n",
      "unique        3   27         NaN           369  \n",
      "top           S   13         NaN  New York, NY  \n",
      "freq        914   39         NaN            64  \n",
      "mean        NaN  NaN  160.809917           NaN  \n",
      "std         NaN  NaN   97.696922           NaN  \n",
      "min         NaN  NaN    1.000000           NaN  \n",
      "25%         NaN  NaN   72.000000           NaN  \n",
      "50%         NaN  NaN  155.000000           NaN  \n",
      "75%         NaN  NaN  256.000000           NaN  \n",
      "max         NaN  NaN  328.000000           NaN  \n"
     ]
    }
   ],
   "source": [
    "print(df.describe(include='all'))"
   ]
  },
  {
   "cell_type": "code",
   "execution_count": 148,
   "metadata": {},
   "outputs": [
    {
     "name": "stdout",
     "output_type": "stream",
     "text": [
      "Index(['age', 'fare', 'cabin', 'embarked', 'boat', 'body', 'home.dest'], dtype='object')\n",
      "Series([], dtype: int64)\n"
     ]
    }
   ],
   "source": [
    "#names of cold where atleast one value is missing\n",
    "\n",
    "print(df.columns[df.isnull().any()])\n",
    "\n",
    "r=df.count()\n",
    "print(r[r<=r.shape[0]])"
   ]
  },
  {
   "cell_type": "code",
   "execution_count": 149,
   "metadata": {},
   "outputs": [
    {
     "name": "stdout",
     "output_type": "stream",
     "text": [
      "(1309, 15)\n"
     ]
    }
   ],
   "source": [
    "print(df.shape)"
   ]
  },
  {
   "cell_type": "code",
   "execution_count": 150,
   "metadata": {},
   "outputs": [
    {
     "name": "stdout",
     "output_type": "stream",
     "text": [
      "Index(['Unnamed: 0', 'pclass', 'survived', 'name', 'gender', 'age', 'sibsp',\n",
      "       'parch', 'ticket', 'fare', 'cabin', 'embarked', 'boat', 'body',\n",
      "       'home.dest'],\n",
      "      dtype='object')\n",
      "Index(['Unnamed: 0', 'pclass', 'survived', 'name', 'gender', 'age', 'sibsp',\n",
      "       'parch', 'ticket', 'fare', 'embarked'],\n",
      "      dtype='object')\n",
      "Unnamed: 0    100.306513\n",
      "pclass        100.306513\n",
      "survived      100.306513\n",
      "name          100.306513\n",
      "gender        100.306513\n",
      "age            80.153257\n",
      "sibsp         100.306513\n",
      "parch         100.306513\n",
      "ticket        100.306513\n",
      "fare          100.229885\n",
      "cabin          22.605364\n",
      "embarked      100.153257\n",
      "boat           37.241379\n",
      "body            9.272031\n",
      "home.dest      57.088123\n",
      "dtype: float64\n"
     ]
    }
   ],
   "source": [
    "th=len(df)*.75\n",
    "r=df.dropna(thresh=th,axis=1)\n",
    "print(df.columns)\n",
    "print(r.columns)\n",
    "\n",
    "print(df.count()/1305*100)"
   ]
  },
  {
   "cell_type": "code",
   "execution_count": 151,
   "metadata": {},
   "outputs": [
    {
     "name": "stdout",
     "output_type": "stream",
     "text": [
      "<bound method NDFrame.head of       pclass  survived                                             name  \\\n",
      "0          1         1                    Allen, Miss. Elisabeth Walton   \n",
      "1          1         1                   Allison, Master. Hudson Trevor   \n",
      "2          1         0                     Allison, Miss. Helen Loraine   \n",
      "3          1         0             Allison, Mr. Hudson Joshua Creighton   \n",
      "4          1         0  Allison, Mrs. Hudson J C (Bessie Waldo Daniels)   \n",
      "...      ...       ...                                              ...   \n",
      "1304       3         0                             Zabour, Miss. Hileni   \n",
      "1305       3         0                            Zabour, Miss. Thamine   \n",
      "1306       3         0                        Zakarian, Mr. Mapriededer   \n",
      "1307       3         0                              Zakarian, Mr. Ortin   \n",
      "1308       3         0                               Zimmerman, Mr. Leo   \n",
      "\n",
      "      gender      age  sibsp  parch  ticket      fare    cabin embarked  \\\n",
      "0     female  29.0000      0      0   24160  $211.34        B5        S   \n",
      "1       male   0.9167      1      2  113781  $151.55   C22 C26        S   \n",
      "2     female   2.0000      1      2  113781  $151.55   C22 C26        S   \n",
      "3       male  30.0000      1      2  113781  $151.55   C22 C26        S   \n",
      "4     female  25.0000      1      2  113781  $151.55   C22 C26        S   \n",
      "...      ...      ...    ...    ...     ...       ...      ...      ...   \n",
      "1304  female  14.5000      1      0    2665   $14.45       NaN        C   \n",
      "1305  female      NaN      1      0    2665   $14.45       NaN        C   \n",
      "1306    male  26.5000      0      0    2656    $7.23       NaN        C   \n",
      "1307    male  27.0000      0      0    2670    $7.23       NaN        C   \n",
      "1308    male  29.0000      0      0  315082    $7.88       NaN        S   \n",
      "\n",
      "       body                        home.dest  \n",
      "0       NaN                     St Louis, MO  \n",
      "1       NaN  Montreal, PQ / Chesterville, ON  \n",
      "2       NaN  Montreal, PQ / Chesterville, ON  \n",
      "3     135.0  Montreal, PQ / Chesterville, ON  \n",
      "4       NaN  Montreal, PQ / Chesterville, ON  \n",
      "...     ...                              ...  \n",
      "1304  328.0                              NaN  \n",
      "1305    NaN                              NaN  \n",
      "1306  304.0                              NaN  \n",
      "1307    NaN                              NaN  \n",
      "1308    NaN                              NaN  \n",
      "\n",
      "[1309 rows x 13 columns]>\n"
     ]
    }
   ],
   "source": [
    "#drop columns having independent values(which do not affect the survival rate).\n",
    "df.drop(columns=['boat','Unnamed: 0'],axis=1,inplace=True)\n",
    "print(df.head)"
   ]
  },
  {
   "cell_type": "code",
   "execution_count": 152,
   "metadata": {},
   "outputs": [
    {
     "name": "stdout",
     "output_type": "stream",
     "text": [
      "pclass         int64\n",
      "survived       int64\n",
      "name          object\n",
      "gender        object\n",
      "age          float64\n",
      "sibsp          int64\n",
      "parch          int64\n",
      "ticket        object\n",
      "fare          object\n",
      "cabin         object\n",
      "embarked      object\n",
      "body         float64\n",
      "home.dest     object\n",
      "dtype: object\n"
     ]
    }
   ],
   "source": [
    "# check data types of all columns\n",
    "\n",
    "\n",
    "\n",
    "\n",
    "print(df.dtypes)"
   ]
  },
  {
   "cell_type": "code",
   "execution_count": 153,
   "metadata": {},
   "outputs": [
    {
     "name": "stdout",
     "output_type": "stream",
     "text": [
      "0    $211.34 \n",
      "1    $151.55 \n",
      "2    $151.55 \n",
      "3    $151.55 \n",
      "4    $151.55 \n",
      "Name: fare, dtype: object\n",
      "object\n",
      "0    211.34\n",
      "1    151.55\n",
      "2    151.55\n",
      "3    151.55\n",
      "4    151.55\n",
      "Name: fare, dtype: float64\n"
     ]
    }
   ],
   "source": [
    "# convert price to numeric\n",
    "print(df['fare'].head())\n",
    "print(df.fare.dtypes)\n",
    "\n",
    "df['fare'] = pd.to_numeric(df['fare'].astype(str).str[1:], errors='coerce')\n",
    "\n",
    "print(df.fare.head())"
   ]
  },
  {
   "cell_type": "code",
   "execution_count": 154,
   "metadata": {},
   "outputs": [
    {
     "name": "stdout",
     "output_type": "stream",
     "text": [
      "pclass       False\n",
      "survived     False\n",
      "name         False\n",
      "gender       False\n",
      "age           True\n",
      "sibsp        False\n",
      "parch        False\n",
      "ticket       False\n",
      "fare          True\n",
      "cabin         True\n",
      "embarked      True\n",
      "body          True\n",
      "home.dest     True\n",
      "dtype: bool\n",
      "pclass          0\n",
      "survived        0\n",
      "name            0\n",
      "gender          0\n",
      "age           263\n",
      "sibsp           0\n",
      "parch           0\n",
      "ticket          0\n",
      "fare            1\n",
      "cabin        1014\n",
      "embarked        2\n",
      "body         1188\n",
      "home.dest     564\n",
      "dtype: int64\n"
     ]
    }
   ],
   "source": [
    "# find columns still having missing/na values and also count of missing data\n",
    "print(df.isna().any())\n",
    "print(df.isna().sum())"
   ]
  },
  {
   "cell_type": "code",
   "execution_count": 155,
   "metadata": {},
   "outputs": [
    {
     "name": "stdout",
     "output_type": "stream",
     "text": [
      "True\n",
      "False\n",
      "True\n",
      "False\n"
     ]
    }
   ],
   "source": [
    "# fill na with mean for fare and age column column.\n",
    "print(df.fare.isna().any())\n",
    "df['fare'].fillna(df['fare'].mean(),inplace=True)\n",
    "print(df.fare.isna().any())\n",
    "\n",
    "print(df.age.isna().any())\n",
    "df['age'].fillna(df['age'].mean(),inplace=True)\n",
    "print(df.age.isna().any())"
   ]
  },
  {
   "cell_type": "code",
   "execution_count": 156,
   "metadata": {},
   "outputs": [
    {
     "name": "stdout",
     "output_type": "stream",
     "text": [
      "True\n",
      "False\n"
     ]
    }
   ],
   "source": [
    "# drop na values for embarked column.\n",
    "print(df.embarked.isna().any())\n",
    "df['embarked'].dropna(inplace=True)\n",
    "print(df.embarked.isna().any())"
   ]
  },
  {
   "cell_type": "code",
   "execution_count": 157,
   "metadata": {},
   "outputs": [],
   "source": [
    "# dump the dataframe to a csv file 'titanic_filtered.csv'.\n",
    "df.to_csv('titanic_filtered.csv')"
   ]
  },
  {
   "cell_type": "code",
   "execution_count": 158,
   "metadata": {},
   "outputs": [
    {
     "name": "stdout",
     "output_type": "stream",
     "text": [
      "0    1\n",
      "1    1\n",
      "2    0\n",
      "3    0\n",
      "4    0\n",
      "Name: survived, dtype: int64\n",
      "0    A\n",
      "1    A\n",
      "2    D\n",
      "3    D\n",
      "4    D\n",
      "Name: survived, dtype: object\n"
     ]
    }
   ],
   "source": [
    "# for surviced column replace 0 with D and 1 with A\n",
    "\n",
    "print(df.survived[df['survived'].isin([0,1])].head())\n",
    "\n",
    "df.survived.replace({0:'D',1:'A'},inplace=True)\n",
    "print(df['survived'].head())"
   ]
  },
  {
   "cell_type": "code",
   "execution_count": 167,
   "metadata": {},
   "outputs": [
    {
     "name": "stdout",
     "output_type": "stream",
     "text": [
      "survived\n",
      "A    500\n",
      "D    809\n",
      "Name: survived, dtype: int64\n",
      "D    809\n",
      "A    500\n",
      "Name: survived, dtype: int64\n"
     ]
    }
   ],
   "source": [
    "# find the frequency of different values in survived column\n",
    "\n",
    "grp=df.groupby(by='survived')\n",
    "print(grp.survived.count())\n",
    "\n",
    "print(df['survived'].value_counts())"
   ]
  },
  {
   "cell_type": "code",
   "execution_count": 173,
   "metadata": {},
   "outputs": [
    {
     "name": "stdout",
     "output_type": "stream",
     "text": [
      "                 gender  survived\n",
      "gender survived                  \n",
      "female A            339       339\n",
      "       D            127       127\n",
      "male   A            161       161\n",
      "       D            682       682\n"
     ]
    }
   ],
   "source": [
    "# group by gender and survived and see the counts in each category\n",
    "\n",
    "grp=df.groupby(by=['gender','survived'])\n",
    "print(grp[['gender','survived']].count())\n"
   ]
  },
  {
   "cell_type": "code",
   "execution_count": 189,
   "metadata": {},
   "outputs": [
    {
     "name": "stdout",
     "output_type": "stream",
     "text": [
      "[1 2 3]\n",
      "3    709\n",
      "1    323\n",
      "2    277\n",
      "Name: pclass, dtype: int64\n"
     ]
    }
   ],
   "source": [
    "# find different pclass and no of people in each class\n",
    "print(df.pclass.unique())\n",
    "print(df.pclass.value_counts())\n",
    "\n"
   ]
  },
  {
   "cell_type": "code",
   "execution_count": 202,
   "metadata": {},
   "outputs": [
    {
     "name": "stdout",
     "output_type": "stream",
     "text": [
      "                                                   name   age  gender\n",
      "14                 Barkworth, Mr. Algernon Henry Wilson  80.0    male\n",
      "61    Cavendish, Mrs. Tyrell William (Julia Florence...  76.0  female\n",
      "1235                                Svensson, Mr. Johan  74.0    male\n",
      "135                           Goldschmidt, Mr. George B  71.0    male\n",
      "9                               Artagaveytia, Mr. Ramon  71.0    male\n",
      "gender\n",
      "female    1\n",
      "male      4\n",
      "Name: gender, dtype: int64\n"
     ]
    }
   ],
   "source": [
    "# find top 5 people with highest values of age. Count no of male and females in the top 5\n",
    "\n",
    "df1=df.sort_values('age',ascending=False).head()\n",
    "print(df1[['name','age','gender']])\n",
    "\n",
    "grp=df1.groupby('gender')\n",
    "print(grp.gender.count())"
   ]
  },
  {
   "cell_type": "code",
   "execution_count": 247,
   "metadata": {},
   "outputs": [
    {
     "name": "stdout",
     "output_type": "stream",
     "text": [
      "gender\n",
      "female    76.0\n",
      "male      80.0\n",
      "Name: age, dtype: float64\n"
     ]
    }
   ],
   "source": [
    "# find max age male and female who survived\n",
    "\n",
    "\n",
    "df1=df[df.survived=='A']\n",
    "grp=df1.groupby(['gender'])\n",
    "print(grp.age.agg(max))"
   ]
  },
  {
   "cell_type": "code",
   "execution_count": 250,
   "metadata": {},
   "outputs": [
    {
     "name": "stdout",
     "output_type": "stream",
     "text": [
      "gender\n",
      "female    28.886935\n",
      "male      30.430716\n",
      "Name: age, dtype: float64\n"
     ]
    }
   ],
   "source": [
    "# get average age by gender\n",
    "grp=df.groupby('gender').age.agg(np.mean)\n",
    "print(grp)"
   ]
  },
  {
   "cell_type": "code",
   "execution_count": 251,
   "metadata": {},
   "outputs": [
    {
     "name": "stdout",
     "output_type": "stream",
     "text": [
      "survived\n",
      "A    29.058812\n",
      "D    30.389368\n",
      "Name: age, dtype: float64\n"
     ]
    }
   ],
   "source": [
    "# get average age by people survived vs not-survived\n",
    "\n",
    "grp=df.groupby('survived').age.agg(np.mean)\n",
    "print(grp)"
   ]
  },
  {
   "cell_type": "code",
   "execution_count": null,
   "metadata": {},
   "outputs": [],
   "source": []
  },
  {
   "cell_type": "code",
   "execution_count": null,
   "metadata": {},
   "outputs": [],
   "source": []
  },
  {
   "cell_type": "code",
   "execution_count": null,
   "metadata": {},
   "outputs": [],
   "source": []
  },
  {
   "cell_type": "code",
   "execution_count": null,
   "metadata": {},
   "outputs": [],
   "source": []
  }
 ],
 "metadata": {
  "kernelspec": {
   "display_name": "Python 3",
   "language": "python",
   "name": "python3"
  },
  "language_info": {
   "codemirror_mode": {
    "name": "ipython",
    "version": 3
   },
   "file_extension": ".py",
   "mimetype": "text/x-python",
   "name": "python",
   "nbconvert_exporter": "python",
   "pygments_lexer": "ipython3",
   "version": "3.6.5"
  }
 },
 "nbformat": 4,
 "nbformat_minor": 2
}
